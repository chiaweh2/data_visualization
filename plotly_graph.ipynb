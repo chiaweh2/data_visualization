{
 "cells": [
  {
   "cell_type": "code",
   "execution_count": 6,
   "metadata": {},
   "outputs": [
    {
     "data": {
      "text/html": [
       "<script>requirejs.config({paths: { 'plotly': ['https://cdn.plot.ly/plotly-latest.min']},});if(!window.Plotly) {{require(['plotly'],function(plotly) {window.Plotly=plotly;});}}</script>"
      ],
      "text/vnd.plotly.v1+html": [
       "<script>requirejs.config({paths: { 'plotly': ['https://cdn.plot.ly/plotly-latest.min']},});if(!window.Plotly) {{require(['plotly'],function(plotly) {window.Plotly=plotly;});}}</script>"
      ]
     },
     "metadata": {},
     "output_type": "display_data"
    }
   ],
   "source": [
    "#!python\n",
    "\n",
    "from ncdf_io import *\n",
    "import plotly\n",
    "import plotly.plotly as py\n",
    "import plotly.graph_objs as go\n",
    "import plotly.offline as offline\n",
    "\n",
    "\n",
    "offline.init_notebook_mode(connected=True)\n",
    "# plotly.tools.set_credentials_file(username='chiaweh2', api_key='Hls8zO0QE2byFOnaOXM5')"
   ]
  },
  {
   "cell_type": "markdown",
   "metadata": {},
   "source": [
    "***\n",
    "# Testing the map plot\n"
   ]
  },
  {
   "cell_type": "code",
   "execution_count": 7,
   "metadata": {},
   "outputs": [],
   "source": [
    "fdir='/Users/joedhsu/Research/Rsync/Data_p/GRACE05_CSR/004_175/Antarctica/'\n",
    "fname='lmass.t60.s300.m.deg1.com004_175.IVANS_IJ05_IMBIE.ptcorr.nc'\n",
    "fpath=fdir+fname"
   ]
  },
  {
   "cell_type": "code",
   "execution_count": 8,
   "metadata": {},
   "outputs": [
    {
     "name": "stdout",
     "output_type": "stream",
     "text": [
      "\n",
      "\n",
      "!!!!! Variable dimension is reodered !!!!!\n",
      " Original order       : [u'time', u'lat', u'lon']\n",
      " Base on user setting : ['time', 'lat', 'lon']\n",
      "\n",
      "\n",
      "#   ncfile dimensions \n",
      "----------------------------------\n",
      "time 154\n",
      "lat 181\n",
      "lon 360\n",
      "\n",
      "\n",
      "#   ncfile variables \n",
      "----------------------------------\n",
      "z (154, 181, 360)\n",
      "    dim: [u'time', u'lat', u'lon']\n"
     ]
    }
   ],
   "source": [
    "# Using ncdf_io to create 3-d xarray\n",
    "ncfile=ncdf_io(fpath)\n",
    "ds=ncfile.read_ncdf2xarray(var=[], dimorder=['time','lat','lon'], ncformat='NETCDF4_CLASSIC')"
   ]
  },
  {
   "cell_type": "code",
   "execution_count": 9,
   "metadata": {},
   "outputs": [],
   "source": [
    "ds_stack=ds['z'].isel(time=0).stack(dim1=('lat','lon'))"
   ]
  },
  {
   "cell_type": "code",
   "execution_count": 10,
   "metadata": {},
   "outputs": [
    {
     "data": {
      "text/html": [
       "<iframe id=\"igraph\" scrolling=\"no\" style=\"border:none;\" seamless=\"seamless\" src=\"https://plot.ly/~chiaweh2/6.embed\" height=\"525px\" width=\"100%\"></iframe>"
      ],
      "text/plain": [
       "<plotly.tools.PlotlyDisplay object>"
      ]
     },
     "execution_count": 10,
     "metadata": {},
     "output_type": "execute_result"
    }
   ],
   "source": [
    "ds_stack=ds['z'].isel(time=0).stack(dim1=('lat','lon'))\n",
    "ind=np.where(np.abs(np.array(ds_stack))>1E-6)[0]\n",
    "var=np.array(ds_stack[ind])\n",
    "varstr=map(lambda x: '%0.2f cmH2O'%(x), var)\n",
    "x=np.array(ds_stack['lon'][ind])\n",
    "y=np.array(ds_stack['lat'][ind])\n",
    "\n",
    "\n",
    "scl = [-100,\"rgb(150,0,90)\"],[-80,\"rgb(0, 0, 200)\"],[-60,\"rgb(0, 25, 255)\"],\\\n",
    "[-40,\"rgb(0, 152, 255)\"],[0,\"rgb(44, 255, 150)\"],[40,\"rgb(151, 255, 0)\"],\\\n",
    "[60,\"rgb(255, 234, 0)\"],[80,\"rgb(255, 111, 0)\"],[100,\"rgb(255, 0, 0)\"]\n",
    "\n",
    "ais_lmass1 = [dict(\n",
    "        type = 'scattergeo',\n",
    "        name='AIS 2002',\n",
    "        lon = x,\n",
    "        lat = y,\n",
    "        text = varstr,\n",
    "        marker = dict(\n",
    "        color = var,\n",
    "        colorscale = scl,\n",
    "        reversescale = False,\n",
    "        opacity = 0.85,\n",
    "        size = 5,\n",
    "        cmin=-100,\n",
    "        cmax=100,            \n",
    "        colorbar = dict(\n",
    "            thickness = 10,\n",
    "            titleside = \"right\",\n",
    "            outlinecolor = \"rgba(68, 68, 68, 0)\",\n",
    "            ticks = \"outside\",\n",
    "            ticklen = 3,\n",
    "            tickmode = \"array\",\n",
    "#             tickvals = np.arange(13)*20.-100,\n",
    "#             ticktest = np.arange(13)*20.-100,\n",
    "            showticksuffix = \"last\",\n",
    "            ticksuffix = \"cmH2O\",\n",
    "            x=0.85,\n",
    "            dtick = 10)\n",
    "          ))]\n",
    "\n",
    "ds_stack=ds['z'].isel(time=-1).stack(dim1=('lat','lon'))\n",
    "ind=np.where(np.abs(np.array(ds_stack))>1E-6)[0]\n",
    "var=np.array(ds_stack[ind])\n",
    "varstr=map(lambda x: '%0.2f cmH2O'%(x), var)\n",
    "x=np.array(ds_stack['lon'][ind])\n",
    "y=np.array(ds_stack['lat'][ind])\n",
    "\n",
    "ais_lmass2 = [dict(\n",
    "        type = 'scattergeo',\n",
    "        name='AIS 2014',\n",
    "        lon = x,\n",
    "        lat = y,\n",
    "        text = varstr,\n",
    "        marker = dict(\n",
    "        color = var,\n",
    "        colorscale = scl,\n",
    "        reversescale = False,\n",
    "        opacity = 0.85,\n",
    "        size = 5,\n",
    "        cmin=-100,\n",
    "        cmax=100,\n",
    "        colorbar = dict(\n",
    "            thickness = 10,\n",
    "            titleside = \"right\",\n",
    "            outlinecolor = \"rgba(68, 68, 68, 0)\",\n",
    "            ticks = \"outside\",\n",
    "            ticklen = 3,\n",
    "            tickmode = \"array\",\n",
    "#             tickvals = np.arange(13)*20.-100,\n",
    "#             ticktest = np.arange(13)*20.-100,\n",
    "            showticksuffix = \"last\",\n",
    "            ticksuffix = \"cmH2O\",\n",
    "            x=0.85,\n",
    "            dtick = 10)\n",
    "          ))]\n",
    "\n",
    "layout = dict(\n",
    "        title = 'AIS mass anomaly with 2002-2014 mean removed',\n",
    "        showlegend = True,\n",
    "        geo = dict(\n",
    "            scope='world',\n",
    "            projection=dict( \n",
    "                type='stereographic' ,\n",
    "                scale=1,\n",
    "                rotation = dict(\n",
    "                lat = -90)\n",
    "            ),\n",
    "            showocean = True,\n",
    "            oceancolor = 'rgb(217, 217, 217)',\n",
    "            subunitwidth=1,\n",
    "            countrywidth=1,\n",
    "            subunitcolor=\"rgb(255, 255, 255)\",\n",
    "            countrycolor=\"rgb(255, 255, 255)\"\n",
    "        ),\n",
    "    )\n",
    "\n",
    "fig = dict( data=ais_lmass1+ais_lmass2, layout=layout )\n",
    "\n",
    "#--- using the plotly server to plot the map\n",
    "py.iplot( fig, validate=False, filename='AIS_map' )\n",
    "#--- offline saving mode (to html file)\n",
    "# offline.plot(fig, validate=False, filename='AIS_map.html')\n"
   ]
  },
  {
   "cell_type": "code",
   "execution_count": null,
   "metadata": {},
   "outputs": [],
   "source": []
  },
  {
   "cell_type": "code",
   "execution_count": null,
   "metadata": {},
   "outputs": [],
   "source": []
  },
  {
   "cell_type": "code",
   "execution_count": null,
   "metadata": {},
   "outputs": [],
   "source": []
  },
  {
   "cell_type": "code",
   "execution_count": null,
   "metadata": {},
   "outputs": [],
   "source": []
  },
  {
   "cell_type": "code",
   "execution_count": null,
   "metadata": {},
   "outputs": [],
   "source": []
  },
  {
   "cell_type": "code",
   "execution_count": null,
   "metadata": {},
   "outputs": [],
   "source": []
  },
  {
   "cell_type": "markdown",
   "metadata": {},
   "source": [
    "***\n",
    "# Testing the time series plot\n"
   ]
  },
  {
   "cell_type": "code",
   "execution_count": 11,
   "metadata": {},
   "outputs": [],
   "source": [
    "aisfile='/Users/joedhsu/Research/Rsync/Data_t/GRACE05_CSR/004_154/Antarctica/slf.t60.s300.m.deg1.scaMB_decom_multi.IVANS_IJ05_IMBIE.ptcorr.rf.200204_201410.regress.regts.agmask.-66_66.nc'\n",
    "gisfile='/Users/joedhsu/Research/Rsync/Data_t/GRACE05_CSR/004_154/Greenland/slf.t60.s300.m.deg1.scaMB_decom_multi.GERUO_ICE5_COMP.ptcorr.rf.200204_201410.regress.regts.agmask.-66_66.nc'\n",
    "lwmfile='/Users/joedhsu/Research/Rsync/Data_t/GRACE05_CSR/004_154/Landwater/slf.f.t60.s300.m.deg1.scaCLM4.5bgc_gict_hydt_ind_decom_multi.GERUO_ICE5_COMP.ptcorr.rf.200204_201410.regress.regts.agmask.-66_66.nc'\n",
    "aodfile='/Users/joedhsu/Research/Rsync/Data_t/GRACE05_CSR/004_154/GAC/slf.t100.s0.m.deg1.rf.200204_201410.regress.regts.agmask.-66_66.nc'\n",
    "glofile='/Users/joedhsu/Research/Rsync/Data_t/GRACE05_CSR/004_154/Global/slf.landf.t60.s300.m.deg1.scaCLM4.5bgc_gict_hydt_ind_decom_multi_MB_decom_multi.IVANS_IJ05_IMBIE_GERUO_ICE5_COMP.GAC.t100.ptcorr.rf.200204_201410.regress.regts.agmask.-66_66.nc'\n",
    "\n",
    "ais=ncdf_io(aisfile)\n",
    "gis=ncdf_io(gisfile)\n",
    "lwm=ncdf_io(lwmfile)\n",
    "aod=ncdf_io(aodfile)\n",
    "glo=ncdf_io(glofile)"
   ]
  },
  {
   "cell_type": "code",
   "execution_count": 12,
   "metadata": {},
   "outputs": [
    {
     "name": "stdout",
     "output_type": "stream",
     "text": [
      "\n",
      "\n",
      "#   ncfile dimensions \n",
      "----------------------------------\n",
      "time 139\n",
      "\n",
      "\n",
      "#   ncfile variables \n",
      "----------------------------------\n",
      "anoSLF_Pac (139,)\n",
      "    dim: [u'time']\n",
      "anoSLF_Atl (139,)\n",
      "    dim: [u'time']\n",
      "anoSLF_Ind (139,)\n",
      "    dim: [u'time']\n",
      "anoSLF_SumPacAtlInd (139,)\n",
      "    dim: [u'time']\n",
      "anoSLF_global (139,)\n",
      "    dim: [u'time']\n",
      "yeardate (139,)\n",
      "    dim: [u'time']\n",
      "\n",
      "\n",
      "#   ncfile dimensions \n",
      "----------------------------------\n",
      "time 139\n",
      "\n",
      "\n",
      "#   ncfile variables \n",
      "----------------------------------\n",
      "anoSLF_Pac (139,)\n",
      "    dim: [u'time']\n",
      "anoSLF_Atl (139,)\n",
      "    dim: [u'time']\n",
      "anoSLF_Ind (139,)\n",
      "    dim: [u'time']\n",
      "anoSLF_SumPacAtlInd (139,)\n",
      "    dim: [u'time']\n",
      "anoSLF_global (139,)\n",
      "    dim: [u'time']\n",
      "yeardate (139,)\n",
      "    dim: [u'time']\n",
      "\n",
      "\n",
      "#   ncfile dimensions \n",
      "----------------------------------\n",
      "time 139\n",
      "\n",
      "\n",
      "#   ncfile variables \n",
      "----------------------------------\n",
      "anoSLF_Pac (139,)\n",
      "    dim: [u'time']\n",
      "anoSLF_Atl (139,)\n",
      "    dim: [u'time']\n",
      "anoSLF_Ind (139,)\n",
      "    dim: [u'time']\n",
      "anoSLF_SumPacAtlInd (139,)\n",
      "    dim: [u'time']\n",
      "anoSLF_global (139,)\n",
      "    dim: [u'time']\n",
      "yeardate (139,)\n",
      "    dim: [u'time']\n",
      "\n",
      "\n",
      "#   ncfile dimensions \n",
      "----------------------------------\n",
      "time 139\n",
      "\n",
      "\n",
      "#   ncfile variables \n",
      "----------------------------------\n",
      "anoSLF_Pac (139,)\n",
      "    dim: [u'time']\n",
      "anoSLF_Atl (139,)\n",
      "    dim: [u'time']\n",
      "anoSLF_Ind (139,)\n",
      "    dim: [u'time']\n",
      "anoSLF_SumPacAtlInd (139,)\n",
      "    dim: [u'time']\n",
      "anoSLF_global (139,)\n",
      "    dim: [u'time']\n",
      "yeardate (139,)\n",
      "    dim: [u'time']\n",
      "\n",
      "\n",
      "#   ncfile dimensions \n",
      "----------------------------------\n",
      "time 139\n",
      "\n",
      "\n",
      "#   ncfile variables \n",
      "----------------------------------\n",
      "anoSLF_Pac (139,)\n",
      "    dim: [u'time']\n",
      "anoSLF_Atl (139,)\n",
      "    dim: [u'time']\n",
      "anoSLF_Ind (139,)\n",
      "    dim: [u'time']\n",
      "anoSLF_SumPacAtlInd (139,)\n",
      "    dim: [u'time']\n",
      "anoSLF_global (139,)\n",
      "    dim: [u'time']\n",
      "yeardate (139,)\n",
      "    dim: [u'time']\n"
     ]
    }
   ],
   "source": [
    "ds_ais=ais.read_ncdf2xarray()\n",
    "ds_gis=gis.read_ncdf2xarray()\n",
    "ds_lwm=lwm.read_ncdf2xarray()\n",
    "ds_aod=aod.read_ncdf2xarray()\n",
    "ds_glo=glo.read_ncdf2xarray()"
   ]
  },
  {
   "cell_type": "markdown",
   "metadata": {},
   "source": [
    "# Offline plotting \n",
    "### Output in notebook"
   ]
  },
  {
   "cell_type": "code",
   "execution_count": 13,
   "metadata": {},
   "outputs": [],
   "source": [
    "%matplotlib inline"
   ]
  },
  {
   "cell_type": "markdown",
   "metadata": {},
   "source": [
    "### Function below is included in the time_convert.py "
   ]
  },
  {
   "cell_type": "code",
   "execution_count": 14,
   "metadata": {},
   "outputs": [],
   "source": [
    "def year2year_mon(yeardate):\n",
    "    mon=yeardate-np.floor(yeardate)\n",
    "    year=yeardate-mon\n",
    "    mon1year=1/24.+1./12.*np.arange(12.)\n",
    "    month=[]\n",
    "    year_month_str=[]\n",
    "    i=0\n",
    "    for m in mon:\n",
    "        mon_ind=np.where(np.abs(mon1year-m)<1E-8)[0]\n",
    "        month.append(mon_ind+1)\n",
    "        year_month_str.append(\"%0.4i-%0.2i\"%(year[i],month[i]))\n",
    "        i+=1\n",
    "    \n",
    "    return {'year':year,'month': month, 'string':year_month_str}\n",
    "    "
   ]
  },
  {
   "cell_type": "markdown",
   "metadata": {},
   "source": [
    "### Plotting the global mean sea level contribution from mass changes "
   ]
  },
  {
   "cell_type": "code",
   "execution_count": 305,
   "metadata": {},
   "outputs": [
    {
     "data": {
      "text/html": [
       "<script>requirejs.config({paths: { 'plotly': ['https://cdn.plot.ly/plotly-latest.min']},});if(!window.Plotly) {{require(['plotly'],function(plotly) {window.Plotly=plotly;});}}</script>"
      ],
      "text/vnd.plotly.v1+html": [
       "<script>requirejs.config({paths: { 'plotly': ['https://cdn.plot.ly/plotly-latest.min']},});if(!window.Plotly) {{require(['plotly'],function(plotly) {window.Plotly=plotly;});}}</script>"
      ]
     },
     "metadata": {},
     "output_type": "display_data"
    },
    {
     "data": {
      "text/html": [
       "<iframe id=\"igraph\" scrolling=\"no\" style=\"border:none;\" seamless=\"seamless\" src=\"https://plot.ly/~chiaweh2/16.embed\" height=\"525px\" width=\"100%\"></iframe>"
      ],
      "text/plain": [
       "<plotly.tools.PlotlyDisplay object>"
      ]
     },
     "execution_count": 305,
     "metadata": {},
     "output_type": "execute_result"
    }
   ],
   "source": [
    "import plotly\n",
    "import plotly.graph_objs as go\n",
    "from time_convert import *\n",
    "\n",
    "plotly.offline.init_notebook_mode(connected=True)\n",
    "\n",
    "yeardate=np.array(ds_ais['yeardate'])\n",
    "dict1=time_convert(yeardate).year2year_mon()\n",
    "# dict1=year2year_mon(yeardate)\n",
    "yeardate_str=dict1['string']\n",
    "gais=np.round(np.array(ds_ais['anoSLF_global'])-np.array(ds_ais['anoSLF_global'])[0],decimals=1)\n",
    "ggis=np.round(np.array(ds_gis['anoSLF_global'])-np.array(ds_gis['anoSLF_global'])[0],decimals=1)\n",
    "glwm=np.round(np.array(ds_lwm['anoSLF_global'])-np.array(ds_lwm['anoSLF_global'])[0],decimals=1)\n",
    "gaod=np.round(np.array(ds_aod['anoSLF_global'])-np.array(ds_aod['anoSLF_global'])[0],decimals=1)\n",
    "gglo=np.round(np.array(ds_glo['anoSLF_global'])-np.array(ds_glo['anoSLF_global'])[0],decimals=1)\n",
    "\n",
    "\n",
    "gplt_ais = go.Scatter(name='Antarctic ice sheet',\n",
    "                         x=yeardate_str,\n",
    "                         y=gais)\n",
    "gplt_gis = go.Scatter(name='Greenland ice sheet',\n",
    "                         x=yeardate_str,\n",
    "                         y=ggis)\n",
    "gplt_lwm = go.Scatter(name=\"Land water storage\",\n",
    "                         x=yeardate_str,\n",
    "                         y=glwm)\n",
    "gplt_aod = go.Scatter(name=\"Atmosphere water vapor\",\n",
    "                         x=yeardate_str,\n",
    "                         y=gaod)\n",
    "gplt_glo = go.Scatter(name=\"Sum\",\n",
    "                         x=yeardate_str,\n",
    "                         y=gglo)\n",
    "layout = dict(\n",
    "            title = 'Global Mean Sea Level',\n",
    "            showlegend = True,\n",
    "            calendar = \"gregorian\",\n",
    "            xaxis= dict(title='Year'),\n",
    "            yaxis= dict(title='Global Mean Sea Level (mm)')\n",
    "             )\n",
    "    \n",
    "data=[gplt_ais,gplt_gis,gplt_lwm,gplt_aod,gplt_glo]\n",
    "\n",
    "py.iplot(dict(data=data,layout=layout),filename='plot_gsl')\n",
    "# plotly.offline.plot(dict(data=data,layout=layout),filename='plot_gsl.html'\\\n",
    "#                          ,include_plotlyjs=False,output_type ='div' )\n",
    "# plotly.offline.plot(dict(data=data,layout=layout),filename='./figures/plot_gsl.html')"
   ]
  },
  {
   "cell_type": "markdown",
   "metadata": {},
   "source": [
    "### Function below is for multivariance regression"
   ]
  },
  {
   "cell_type": "code",
   "execution_count": 261,
   "metadata": {},
   "outputs": [],
   "source": [
    "import numpy as np\n",
    "from numpy import linalg as la\n",
    "\n",
    "class regress :\n",
    "    \"\"\"\n",
    "    The regress class is a modification and improvement of the module.regress.py\n",
    "    The class is created to be more generic in importing different number of variate\n",
    "    when performing multi-variate regression. \n",
    "    \n",
    "    \"\"\"\n",
    "    \n",
    "    def __init__(self, axis, axis_rel=0., err_weighted='N',err=1.):\n",
    "        \"\"\"\n",
    "        Parameters:\n",
    "            axis : np.array,\n",
    "                one dimension numpy array that define the time/space\n",
    "                of each variate\n",
    "                \n",
    "            axis_rel : np.float\n",
    "                number representing the reference value on the axis. \n",
    "                Default is set to 0 => meaning the axis remains as it is\n",
    "                if list_variates is set manually => keep axis_rel=0.\n",
    "                    unless the list_variates is also corrected based on\n",
    "                    the axis_rel value.\n",
    "                \n",
    "            err_weighted : string\n",
    "                'Y' or 'N' to determine whether the weighted regression is \n",
    "                perfermed or not. The weighted regression propogate the \n",
    "                measurement error in the observation to the regression \n",
    "                \n",
    "            err : np.float or np.array\n",
    "                measurement error per observation (can be different per obs.)\n",
    "                but need to be the same length as the axis array\n",
    "                \n",
    "        Attributes:\n",
    "            self.axis: np.array\n",
    "                axis of the time/space of each variate after the relative \n",
    "                frame is removed. This is stored as attribute for future \n",
    "                reference\n",
    "                \n",
    "        \"\"\"\n",
    "        \n",
    "        self.axis=axis-axis_rel\n",
    "        self.axis_rel=axis_rel\n",
    "        self.err_weight=err_weighted\n",
    "        self.err=err\n",
    "        \n",
    "        return\n",
    "\n",
    "        \n",
    "    def def_vars(self, predef_var='', list_variates=[]):\n",
    "        \"\"\"\n",
    "        Creating the designed matrix X for the regression\n",
    "        \n",
    "        Parameters:\n",
    "        \n",
    "            list_variate : list,\n",
    "                list of variates used for the regression\n",
    "                [var1, var2, .....]\n",
    "                variate that one want to relate to the original data \n",
    "                Design matrix X shows the var1, var2,... as colume\n",
    "                Each Column represents a variate\n",
    "        \n",
    "                        /  1  x11 x21 ... xn1 \\          / y1 \\\n",
    "                        |  1  x12 x22 ... xn2 |          | y2 |\n",
    "                        |  .   .   .       .  |          |  . |\n",
    "                    X = |  .   .   .       .  |      Y = |  . |\n",
    "                        |  .   .   .       .  |          |  . |\n",
    "                        \\  1  x1p x2p ... xnp /          \\ yp /\n",
    "\n",
    "                where x1j (j = 0 -> p) means how each variate changes with time/space\n",
    "                      xi1 (i = 0 -> n) means different variates\n",
    "                      yj  means the original data at a single location or time\n",
    "\n",
    "            predef_var: string,\n",
    "                kwarg to call for predefined variates \n",
    "                options - semisea_sea_lin, semisea_sea_lin_quad, fort13_fort14_lin\n",
    "                \n",
    "        Return:\n",
    "            X : np.array \n",
    "                numpy matrix representing the designed matrix\n",
    "                \n",
    "        Attribute:\n",
    "            self.dm_order : list\n",
    "                list of name of the list_variates order\n",
    "                put in the designed matrix.\n",
    "\n",
    "\n",
    "        \"\"\"\n",
    "    \n",
    "        if predef_var == '':    \n",
    "            self.num_var=len(list_variates) # number of variates \n",
    "            X=np.zeros([len(list_variates[0]),self.num_var],dtype=np.float64)\n",
    "            self.dm_order=[]\n",
    "            # designed matrix\n",
    "            for i in range(self.num_var):\n",
    "                X[:,i]=list_variates[i]   \n",
    "                self.dm_order.append('var%i'%(i+1))\n",
    "        else:\n",
    "            # variates below is assuming the time variable is in the unit of year\n",
    "            con=np.zeros([self.axis.shape[0],],dtype=np.float64)+1.\n",
    "            lin=np.zeros([self.axis.shape[0],],dtype=np.float64)+(self.axis)\n",
    "            quad=np.zeros([self.axis.shape[0],],dtype=np.float64)+(self.axis)**2\n",
    "\n",
    "            anncos=np.zeros([self.axis.shape[0],],dtype=np.float64)+np.cos(self.axis*2.*np.pi)\n",
    "            annsin=np.zeros([self.axis.shape[0],],dtype=np.float64)+np.sin(self.axis*2.*np.pi)\n",
    "            semianncos=np.zeros([self.axis.shape[0],],dtype=np.float64)+np.cos(self.axis*4.*np.pi)\n",
    "            semiannsin=np.zeros([self.axis.shape[0],],dtype=np.float64)+np.sin(self.axis*4.*np.pi)\n",
    "            fortnight1_cos=np.zeros([self.axis.shape[0],],dtype=np.float64)\\\n",
    "            +np.cos(self.axis*2.*np.pi*365./13.66)\n",
    "            fortnight1_sin=np.zeros([self.axis.shape[0],],dtype=np.float64)\\\n",
    "            +np.sin(self.axis*2.*np.pi*365./13.66)\n",
    "            fortnight2_cos=np.zeros([self.axis.shape[0],],dtype=np.float64)\\\n",
    "            +np.cos(self.axis*2.*np.pi*365./14.77)\n",
    "            fortnight2_sin=np.zeros([self.axis.shape[0],],dtype=np.float64)\\\n",
    "            +np.sin(self.axis*2.*np.pi*365./14.77)\n",
    " \n",
    "            # Fit (constant + linear trend + annual + semiannual)          \n",
    "            if predef_var == 'semisea_sea_lin':\n",
    "                X=np.zeros([self.axis.shape[0],6],dtype=np.float64)\n",
    "                X[:,0]=con[:]\n",
    "                X[:,1]=lin[:]\n",
    "                X[:,2]=anncos[:]\n",
    "                X[:,3]=annsin[:]\n",
    "                X[:,4]=semianncos[:]\n",
    "                X[:,5]=semiannsin[:]\n",
    "                self.dm_order=['con','lin','anncos','annsin','semianncos','semiannsin']\n",
    "            # Fit (constant + linear trend + annual + semiannual + quadratic)\n",
    "            elif predef_var == 'semisea_sea_lin_quad':\n",
    "                X=np.zeros([self.axis.shape[0],7],dtype=np.float64)\n",
    "                X[:,0]=con[:]\n",
    "                X[:,1]=lin[:]\n",
    "                X[:,2]=anncos[:]\n",
    "                X[:,3]=annsin[:]\n",
    "                X[:,4]=semianncos[:]\n",
    "                X[:,5]=semiannsin[:]\n",
    "                X[:,6]=quad[:]\n",
    "                self.dm_order=['con','lin','anncos','annsin','semianncos','semiannsin','quad']\n",
    "            # Fit (constant + linear + fortnightly1 + fortnightly2)\n",
    "            elif flag == 'fort13_fort14_lin':\n",
    "                X=np.zeros([self.axis.shape[0],6],dtype=np.float64)\n",
    "                X[:,0]=con[:]\n",
    "                X[:,1]=lin[:]\n",
    "                X[:,2]=fortnight1_cos[:]\n",
    "                X[:,3]=fortnight1_sin[:]\n",
    "                X[:,4]=fortnight2_cos[:]\n",
    "                X[:,5]=fortnight2_sin[:] \n",
    "                self.dm_order=['con','lin','fortnight13_cos','fortnight13_sin'\\\n",
    "                               ,'fortnight14_cos','fortnight14_sin']\n",
    "#         self.dm=X\n",
    "        return X\n",
    "            \n",
    "    def multivar_regress(self, Y, predef_var='', list_variates=[]) :\n",
    "        \"\"\"\n",
    "        The method is the multi-variate-regression that simultaniously fit \n",
    "        multiple variates (x1,x2,....) in one single regression to derive\n",
    "        the best fitting line to represent the original data (Y)\n",
    "        \n",
    "        Parameters:\n",
    "            Y: np.array \n",
    "              the original data value (Vector of responses)\n",
    "              \n",
    "            list_variates: list, \n",
    "                list of variates used for the regression\n",
    "                [var1, var2, .....] to form the design matrix\n",
    "                \n",
    "                    Design matrix = X and Vector of response Y\n",
    "\n",
    "                        /  1  x11 x21 ... xn1 \\          / y1 \\\n",
    "                        |  1  x12 x22 ... xn2 |          | y2 |\n",
    "                        |  .   .   .       .  |          |  . |\n",
    "                    X = |  .   .   .       .  |      Y = |  . |\n",
    "                        |  .   .   .       .  |          |  . |\n",
    "                        \\  1  x1p x2p ... xnp /          \\ yp /\n",
    "\n",
    "            predef_var: string,\n",
    "                kwarg to call for predefined variates \n",
    "                options - semisea_sea_lin, semisea_sea_lin_quad, fort13_fort14_lin}\n",
    "\n",
    "\n",
    "         Returns:\n",
    "            beta: \n",
    "                the coefficients (dim = num of variates) that relate to each variate\n",
    "                It's order is following the order of variates in the list_variates\n",
    "            err: \n",
    "                the errors that makes the linear combined regression value to deviate \n",
    "                from the original data (Y)\n",
    "        \n",
    "                                 / beta0 \\          / e1 \\\n",
    "                                 | beta1 |          | e2 |\n",
    "                                 |   .   |          |  . |\n",
    "                          beta = |   .   |    err = |  . |\n",
    "                                 |   .   |          |  . |\n",
    "                                 \\ betan /          \\ ep /\n",
    "                                 \n",
    "        \n",
    "         Mathematical expression:\n",
    "\n",
    "              R^2= sum (Y-beta*X)   \n",
    "              find the minimum of the equation => first order differential = 0\n",
    "              first order diffferential equation is  X'Y=(X'X) (beta)\n",
    "              so  beta = (X'X)^-1 (X'Y)\n",
    "              where prime means transpose of matrix, ^-1 means inversion of matrix\n",
    "\n",
    "              to solve the weighted system\n",
    "              R^2= sum W(Y-beta*X)   \n",
    "              find the minimum of the equation => first order differential = 0\n",
    "              first order diffferential equation is  X'WY=(X'WX) (beta)\n",
    "              so  beta = (X'WX)^-1 (X'WY)\n",
    "              where \n",
    "                        /1/E^2  0    0   ...  0   \\\n",
    "                        |  0  1/E^2  0   ...  0   |\n",
    "                        |  0    0  1/E^2 ...  0   |\n",
    "                    W = |  .    .    .            |\n",
    "                        |  .    .    .            |\n",
    "                        \\  0    0    0   ...1/E^2 /\n",
    "                        \n",
    "              the matrix representing the reciprical of the error square \n",
    "              at each observed value (can be different at each time step)\n",
    "              The weighted regression propogate the measurement error in \n",
    "              the observation to the regression [Schuckmann et al., 2011,\n",
    "              Llovel et al., 2014]\n",
    "            \n",
    "                \n",
    "        \"\"\"\n",
    "\n",
    "        #-- reshape the Y array to column\n",
    "        Y=np.reshape(Y,[Y.shape[0],1])\n",
    "        # determine the design matrix\n",
    "        X=self.def_vars(predef_var=predef_var, list_variates=list_variates)\n",
    "        \n",
    "        #-- determine to perform weighted regression or not\n",
    "        if self.err_weight.upper() in ['Y']:\n",
    "            ww=np.zeros(len(time))+1./self.err**2           # the variance of obs. error\n",
    "            W=np.diag(ww) \n",
    "            term1=np.dot(np.transpose(X),np.dot(W,X))       #(X'WX)            \n",
    "        else :\n",
    "            term1=np.dot(np.transpose(X),X)                 #(X'X)\n",
    "            \n",
    "        #-- calculate the determinant for matrix inverse \n",
    "        detterm1=la.det(term1)\n",
    "        if detterm1 == np.float64(0.) :\n",
    "           print \"Error64: No inverse of (X'X) or (X'WX) \"\n",
    "           return\n",
    "        \n",
    "        #-- calculate the matrix inverse \n",
    "        term1_1=la.inv(term1)                               #(X'X)^-1 or (X'WX)^-1\n",
    "        \n",
    "        #-- calculate the right hand side\n",
    "        if self.err_weight.upper() in ['Y']:  \n",
    "            term2=np.dot(np.transpose(X),np.dot(W,Y))       #(X'WY)            \n",
    "        else :\n",
    "            term2=np.dot(np.transpose(X),Y)                 #(X'Y) \n",
    "            \n",
    "        #-- matrix multiplication of RHS and inverse matrix\n",
    "        beta=np.dot(term1_1,term2)                          #(X'X)^-1(X'Y) or (X'WX)^-1(X'WY)\n",
    "                \n",
    "        #-- store attribute in the regression\n",
    "        self.nvars=X.shape[1]                              # store number of variates\n",
    "        self.dof=len(self.axis)-self.nvars                 # store degree of freedom in the regress\n",
    "     \n",
    "        #-- calculate uncertainties\n",
    "        # the diag of rmse*sqrt(X_var)^-1 represents the std of uncertainty \n",
    "        # in the regression for each variate\n",
    "        Yreg=np.dot(X,np.reshape(beta,[beta.shape[0],1]))  # (X) dot (beta) => regression model\n",
    "        Yreg=np.reshape(Yreg,[Yreg.shape[0],1])\n",
    "        misfit=Y-Yreg     \n",
    "        rmse=np.sqrt(np.sum(misfit**2)/(self.dof))         # RMSE between the model and obs.\n",
    "        X_var=np.dot(np.transpose(X),X)\n",
    "        se=rmse*np.sqrt(np.diag(la.inv(X_var)))  \n",
    "        \n",
    "        #-- output the design matrix in the form of list_variates\n",
    "        if list_variates == []:\n",
    "            list_variates = [X[:,i] for i in range(X.shape[1])] \n",
    "            \n",
    "        return {'beta':beta[:,0],'se':se,'rmse':rmse,\n",
    "                  'model':Yreg[:,0],'list_variates':list_variates}\n",
    "\n",
    "    \n",
    "    \n"
   ]
  },
  {
   "cell_type": "code",
   "execution_count": 296,
   "metadata": {},
   "outputs": [],
   "source": [
    "import scipy.stats\n",
    "import sys\n",
    "class ci2nstd:\n",
    "    def __init__(self) :\n",
    "        return\n",
    "    \n",
    "    def t_dist(self, ci, dof, ntail=2):\n",
    "        if ntail != 1 and ntail != 2 :\n",
    "            print \"ntail can only be 1 or 2 \"\n",
    "            sys.exit('')\n",
    "        else:\n",
    "            self.alpha=1.-ci/100.\n",
    "            self.nstd=scipy.stats.t.ppf(1.0-(self.alpha/ntail),dof)\n",
    "            self.dof=dof\n",
    "            self.ntail=ntail\n",
    "        return self.nstd\n",
    "        "
   ]
  },
  {
   "cell_type": "code",
   "execution_count": 299,
   "metadata": {},
   "outputs": [],
   "source": [
    "obj=ci2nstd()\n",
    "a=obj.t_dist(99,reg.dof,ntail=2)\n"
   ]
  },
  {
   "cell_type": "markdown",
   "metadata": {},
   "source": [
    "### Use the class regress \n"
   ]
  },
  {
   "cell_type": "markdown",
   "metadata": {},
   "source": [
    "Tested the different axis_rel options\n",
    "1. rel= 0\n",
    "2. rel= yeardate[0]\n",
    "3. rel= mean(yeardate)\n",
    "\n",
    "Since the mean is being fitted by the constant variate \n",
    "other variate estimate and standard error are not affected\n",
    "by the changing reference axis position\n",
    "\n",
    "**However, when using the manual entered** `list_variates` **one need to remember to set the** `axis_rel=0.`"
   ]
  },
  {
   "cell_type": "markdown",
   "metadata": {},
   "source": [
    "[first cell](#first cell)"
   ]
  },
  {
   "cell_type": "code",
   "execution_count": 259,
   "metadata": {},
   "outputs": [
    {
     "name": "stdout",
     "output_type": "stream",
     "text": [
      "---------------------------\n",
      "Regress result:\n",
      "['con', 'lin', 'anncos', 'annsin', 'semianncos', 'semiannsin']\n",
      "-3517.428521355614\n",
      "82.00474202514879\n",
      "1.682196123268106\n"
     ]
    }
   ],
   "source": [
    "reg=regress(yeardate, axis_rel=0)\n",
    "gglo_reg=reg.multivar_regress(gglo,predef_var='semisea_sea_lin')\n",
    "gglo_model=np.round(gglo_reg['model'],decimals=1)\n",
    "print '---------------------------'\n",
    "print 'Regress result:'\n",
    "print reg.dm_order[:] \n",
    "print gglo_reg['beta'][0]\n",
    "print gglo_reg['se'][0]\n",
    "print gglo_reg['rmse']"
   ]
  },
  {
   "cell_type": "code",
   "execution_count": 242,
   "metadata": {},
   "outputs": [
    {
     "name": "stdout",
     "output_type": "stream",
     "text": [
      "---------------------------\n",
      "Regress result:\n",
      "['con', 'lin', 'anncos', 'annsin', 'semianncos', 'semiannsin']\n",
      "10.171776205288865\n",
      "0.2867088209134094\n",
      "1.6821961232681608\n"
     ]
    }
   ],
   "source": [
    "reg=regress(yeardate, axis_rel=yeardate[0])\n",
    "gglo_reg=reg.multivar_regress(gglo,predef_var='semisea_sea_lin')\n",
    "gglo_model=np.round(gglo_reg['model'],decimals=1)\n",
    "print '---------------------------'\n",
    "print 'Regress result:'\n",
    "print reg.dm_order[:] \n",
    "print gglo_reg['beta'][0]\n",
    "print gglo_reg['se'][0]\n",
    "print gglo_reg['rmse']"
   ]
  },
  {
   "cell_type": "code",
   "execution_count": 244,
   "metadata": {},
   "outputs": [
    {
     "name": "stdout",
     "output_type": "stream",
     "text": [
      "---------------------------\n",
      "Regress result:\n",
      "['con', 'lin', 'anncos', 'annsin', 'semianncos', 'semiannsin']\n",
      "20.89350486486263\n",
      "0.14281575587619869\n",
      "1.6821961232681621\n"
     ]
    }
   ],
   "source": [
    "reg=regress(yeardate, axis_rel=np.mean(yeardate))\n",
    "gglo_reg=reg.multivar_regress(gglo,predef_var='semisea_sea_lin')\n",
    "gglo_model=np.round(gglo_reg['model'],decimals=1)\n",
    "print '---------------------------'\n",
    "print 'Regress result:'\n",
    "print reg.dm_order[:] \n",
    "print gglo_reg['beta'][0]\n",
    "print gglo_reg['se'][0]     \n",
    "print gglo_reg['rmse']"
   ]
  },
  {
   "cell_type": "markdown",
   "metadata": {},
   "source": [
    "### Testing the list_variates\n",
    "\n",
    "running the <a id='first cell'> **cell above** </a>"
   ]
  },
  {
   "cell_type": "code",
   "execution_count": 262,
   "metadata": {},
   "outputs": [
    {
     "name": "stdout",
     "output_type": "stream",
     "text": [
      "---------------------------\n",
      "Regress result:\n",
      "['var1', 'var2', 'var3', 'var4', 'var5', 'var6']\n",
      "-3517.428521355614\n",
      "82.00474202514879\n",
      "1.682196123268106\n"
     ]
    }
   ],
   "source": [
    "reg=regress(yeardate, axis_rel=0.)\n",
    "gglo_reg=reg.multivar_regress(gglo,list_variates= gglo_reg['list_variates'])\n",
    "gglo_model=np.round(gglo_reg['model'],decimals=1)\n",
    "print '---------------------------'\n",
    "print 'Regress result:'\n",
    "print reg.dm_order[:] \n",
    "print gglo_reg['beta'][0]\n",
    "print gglo_reg['se'][0]     \n",
    "print gglo_reg['rmse']"
   ]
  },
  {
   "cell_type": "markdown",
   "metadata": {},
   "source": [
    "### Plot the time series removing the regressed model"
   ]
  },
  {
   "cell_type": "code",
   "execution_count": 248,
   "metadata": {},
   "outputs": [
    {
     "name": "stdout",
     "output_type": "stream",
     "text": [
      "---------------------------\n",
      "Model includes:\n",
      "  anncos\n",
      "  annsin\n",
      "  semianncos\n",
      "  semiannsin\n"
     ]
    }
   ],
   "source": [
    "### seasonal and semiseasonal \n",
    "fre_list=[2,3,4,5]\n",
    "def_model1=np.zeros(len(yeardate))\n",
    "print '---------------------------'\n",
    "print 'Model includes:'\n",
    "for i in fre_list:\n",
    "    def_model1+=np.array(gglo_reg['list_variates'][i])*gglo_reg['beta'][i]\n",
    "    print ' ',reg.dm_order[i]  "
   ]
  },
  {
   "cell_type": "code",
   "execution_count": 255,
   "metadata": {},
   "outputs": [
    {
     "name": "stdout",
     "output_type": "stream",
     "text": [
      "---------------------------\n",
      "Model includes:\n",
      "  con\n",
      "  lin\n"
     ]
    }
   ],
   "source": [
    "### linear\n",
    "fre_list=[0,1]\n",
    "def_model2=np.zeros(len(yeardate))\n",
    "print '---------------------------'\n",
    "print 'Model includes:'\n",
    "for i in fre_list:\n",
    "    def_model2+=np.array(gglo_reg['list_variates'][i])*gglo_reg['beta'][i]\n",
    "    print ' ',reg.dm_order[i]  "
   ]
  },
  {
   "cell_type": "code",
   "execution_count": 308,
   "metadata": {},
   "outputs": [
    {
     "data": {
      "text/plain": [
       "'file:///Users/joedhsu/Github_public/data_visualization.dir/figures/plot_gsl_reg_mean.html'"
      ]
     },
     "execution_count": 308,
     "metadata": {},
     "output_type": "execute_result"
    }
   ],
   "source": [
    "gplt_glo = go.Scatter(name=\"Barystatic\",\n",
    "                         x=yeardate_str,\n",
    "                         y=gglo)\n",
    "gplt_glo_reg = go.Scatter(name=\"Remove seasonal\",\n",
    "                         x=yeardate_str,\n",
    "                         y=gglo-def_model1)\n",
    "gplt_glo_lin = go.Scatter(name=\"Trend %0.2f +- %0.2f mm/yr\"%(gglo_reg['beta'][1],gglo_reg['se'][1]),\n",
    "                         x=yeardate_str,\n",
    "                         y=def_model2,\n",
    "                      line=dict(width = 2,dash = 'dash'))\n",
    "layout = dict(\n",
    "            title = 'Global Mean Sea Level',\n",
    "            showlegend = True,\n",
    "            calendar = \"gregorian\",\n",
    "            xaxis= dict(title='Year'),\n",
    "            yaxis= dict(title='Global Mean Sea Level (mm)')\n",
    "             )\n",
    "    \n",
    "data=[gplt_glo,gplt_glo_reg,gplt_glo_lin]\n",
    "\n",
    "# py.iplot(dict(data=data,layout=layout),filename='plot_gsl_reg')\n",
    "# plotly.offline.plot(dict(data=data,layout=layout),filename='plot_gsl_reg.html'\\\n",
    "#                          ,include_plotlyjs=False,output_type ='div' )\n",
    "plotly.offline.plot(dict(data=data,layout=layout),filename='./figures/plot_gsl_reg_mean.html')"
   ]
  },
  {
   "cell_type": "code",
   "execution_count": null,
   "metadata": {},
   "outputs": [],
   "source": []
  },
  {
   "cell_type": "code",
   "execution_count": null,
   "metadata": {},
   "outputs": [],
   "source": []
  },
  {
   "cell_type": "code",
   "execution_count": null,
   "metadata": {},
   "outputs": [],
   "source": []
  },
  {
   "cell_type": "code",
   "execution_count": null,
   "metadata": {},
   "outputs": [],
   "source": []
  },
  {
   "cell_type": "code",
   "execution_count": null,
   "metadata": {},
   "outputs": [],
   "source": []
  },
  {
   "cell_type": "code",
   "execution_count": null,
   "metadata": {},
   "outputs": [],
   "source": []
  },
  {
   "cell_type": "code",
   "execution_count": null,
   "metadata": {},
   "outputs": [],
   "source": []
  },
  {
   "cell_type": "code",
   "execution_count": null,
   "metadata": {},
   "outputs": [],
   "source": []
  },
  {
   "cell_type": "code",
   "execution_count": null,
   "metadata": {},
   "outputs": [],
   "source": []
  },
  {
   "cell_type": "code",
   "execution_count": null,
   "metadata": {},
   "outputs": [],
   "source": []
  },
  {
   "cell_type": "code",
   "execution_count": null,
   "metadata": {},
   "outputs": [],
   "source": []
  },
  {
   "cell_type": "code",
   "execution_count": null,
   "metadata": {},
   "outputs": [],
   "source": []
  }
 ],
 "metadata": {
  "kernelspec": {
   "display_name": "Python 2",
   "language": "python",
   "name": "python2"
  },
  "language_info": {
   "codemirror_mode": {
    "name": "ipython",
    "version": 2
   },
   "file_extension": ".py",
   "mimetype": "text/x-python",
   "name": "python",
   "nbconvert_exporter": "python",
   "pygments_lexer": "ipython2",
   "version": "2.7.13"
  }
 },
 "nbformat": 4,
 "nbformat_minor": 2
}

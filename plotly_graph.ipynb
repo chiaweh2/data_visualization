{
 "cells": [
  {
   "cell_type": "code",
   "execution_count": 6,
   "metadata": {},
   "outputs": [
    {
     "data": {
      "text/html": [
       "<script>requirejs.config({paths: { 'plotly': ['https://cdn.plot.ly/plotly-latest.min']},});if(!window.Plotly) {{require(['plotly'],function(plotly) {window.Plotly=plotly;});}}</script>"
      ],
      "text/vnd.plotly.v1+html": [
       "<script>requirejs.config({paths: { 'plotly': ['https://cdn.plot.ly/plotly-latest.min']},});if(!window.Plotly) {{require(['plotly'],function(plotly) {window.Plotly=plotly;});}}</script>"
      ]
     },
     "metadata": {},
     "output_type": "display_data"
    }
   ],
   "source": [
    "#!python\n",
    "\n",
    "from ncdf_io import *\n",
    "import plotly\n",
    "import plotly.plotly as py\n",
    "import plotly.graph_objs as go\n",
    "import plotly.offline as offline\n",
    "\n",
    "\n",
    "offline.init_notebook_mode(connected=True)\n",
    "# plotly.tools.set_credentials_file(username='chiaweh2', api_key='Hls8zO0QE2byFOnaOXM5')"
   ]
  },
  {
   "cell_type": "markdown",
   "metadata": {},
   "source": [
    "***\n",
    "# Testing the map plot\n"
   ]
  },
  {
   "cell_type": "code",
   "execution_count": 7,
   "metadata": {},
   "outputs": [],
   "source": [
    "fdir='/Users/joedhsu/Research/Rsync/Data_p/GRACE05_CSR/004_175/Antarctica/'\n",
    "fname='lmass.t60.s300.m.deg1.com004_175.IVANS_IJ05_IMBIE.ptcorr.nc'\n",
    "fpath=fdir+fname"
   ]
  },
  {
   "cell_type": "code",
   "execution_count": 8,
   "metadata": {},
   "outputs": [
    {
     "name": "stdout",
     "output_type": "stream",
     "text": [
      "\n",
      "\n",
      "!!!!! Variable dimension is reodered !!!!!\n",
      " Original order       : [u'time', u'lat', u'lon']\n",
      " Base on user setting : ['time', 'lat', 'lon']\n",
      "\n",
      "\n",
      "#   ncfile dimensions \n",
      "----------------------------------\n",
      "time 154\n",
      "lat 181\n",
      "lon 360\n",
      "\n",
      "\n",
      "#   ncfile variables \n",
      "----------------------------------\n",
      "z (154, 181, 360)\n",
      "    dim: [u'time', u'lat', u'lon']\n"
     ]
    }
   ],
   "source": [
    "# Using ncdf_io to create 3-d xarray\n",
    "ncfile=ncdf_io(fpath)\n",
    "ds=ncfile.read_ncdf2xarray(var=[], dimorder=['time','lat','lon'], ncformat='NETCDF4_CLASSIC')"
   ]
  },
  {
   "cell_type": "code",
   "execution_count": 9,
   "metadata": {},
   "outputs": [],
   "source": [
    "ds_stack=ds['z'].isel(time=0).stack(dim1=('lat','lon'))"
   ]
  },
  {
   "cell_type": "code",
   "execution_count": 10,
   "metadata": {},
   "outputs": [
    {
     "data": {
      "text/html": [
       "<iframe id=\"igraph\" scrolling=\"no\" style=\"border:none;\" seamless=\"seamless\" src=\"https://plot.ly/~chiaweh2/6.embed\" height=\"525px\" width=\"100%\"></iframe>"
      ],
      "text/plain": [
       "<plotly.tools.PlotlyDisplay object>"
      ]
     },
     "execution_count": 10,
     "metadata": {},
     "output_type": "execute_result"
    }
   ],
   "source": [
    "ds_stack=ds['z'].isel(time=0).stack(dim1=('lat','lon'))\n",
    "ind=np.where(np.abs(np.array(ds_stack))>1E-6)[0]\n",
    "var=np.array(ds_stack[ind])\n",
    "varstr=map(lambda x: '%0.2f cmH2O'%(x), var)\n",
    "x=np.array(ds_stack['lon'][ind])\n",
    "y=np.array(ds_stack['lat'][ind])\n",
    "\n",
    "\n",
    "scl = [-100,\"rgb(150,0,90)\"],[-80,\"rgb(0, 0, 200)\"],[-60,\"rgb(0, 25, 255)\"],\\\n",
    "[-40,\"rgb(0, 152, 255)\"],[0,\"rgb(44, 255, 150)\"],[40,\"rgb(151, 255, 0)\"],\\\n",
    "[60,\"rgb(255, 234, 0)\"],[80,\"rgb(255, 111, 0)\"],[100,\"rgb(255, 0, 0)\"]\n",
    "\n",
    "ais_lmass1 = [dict(\n",
    "        type = 'scattergeo',\n",
    "        name='AIS 2002',\n",
    "        lon = x,\n",
    "        lat = y,\n",
    "        text = varstr,\n",
    "        marker = dict(\n",
    "        color = var,\n",
    "        colorscale = scl,\n",
    "        reversescale = False,\n",
    "        opacity = 0.85,\n",
    "        size = 5,\n",
    "        cmin=-100,\n",
    "        cmax=100,            \n",
    "        colorbar = dict(\n",
    "            thickness = 10,\n",
    "            titleside = \"right\",\n",
    "            outlinecolor = \"rgba(68, 68, 68, 0)\",\n",
    "            ticks = \"outside\",\n",
    "            ticklen = 3,\n",
    "            tickmode = \"array\",\n",
    "#             tickvals = np.arange(13)*20.-100,\n",
    "#             ticktest = np.arange(13)*20.-100,\n",
    "            showticksuffix = \"last\",\n",
    "            ticksuffix = \"cmH2O\",\n",
    "            x=0.85,\n",
    "            dtick = 10)\n",
    "          ))]\n",
    "\n",
    "ds_stack=ds['z'].isel(time=-1).stack(dim1=('lat','lon'))\n",
    "ind=np.where(np.abs(np.array(ds_stack))>1E-6)[0]\n",
    "var=np.array(ds_stack[ind])\n",
    "varstr=map(lambda x: '%0.2f cmH2O'%(x), var)\n",
    "x=np.array(ds_stack['lon'][ind])\n",
    "y=np.array(ds_stack['lat'][ind])\n",
    "\n",
    "ais_lmass2 = [dict(\n",
    "        type = 'scattergeo',\n",
    "        name='AIS 2014',\n",
    "        lon = x,\n",
    "        lat = y,\n",
    "        text = varstr,\n",
    "        marker = dict(\n",
    "        color = var,\n",
    "        colorscale = scl,\n",
    "        reversescale = False,\n",
    "        opacity = 0.85,\n",
    "        size = 5,\n",
    "        cmin=-100,\n",
    "        cmax=100,\n",
    "        colorbar = dict(\n",
    "            thickness = 10,\n",
    "            titleside = \"right\",\n",
    "            outlinecolor = \"rgba(68, 68, 68, 0)\",\n",
    "            ticks = \"outside\",\n",
    "            ticklen = 3,\n",
    "            tickmode = \"array\",\n",
    "#             tickvals = np.arange(13)*20.-100,\n",
    "#             ticktest = np.arange(13)*20.-100,\n",
    "            showticksuffix = \"last\",\n",
    "            ticksuffix = \"cmH2O\",\n",
    "            x=0.85,\n",
    "            dtick = 10)\n",
    "          ))]\n",
    "\n",
    "layout = dict(\n",
    "        title = 'AIS mass anomaly with 2002-2014 mean removed',\n",
    "        showlegend = True,\n",
    "        geo = dict(\n",
    "            scope='world',\n",
    "            projection=dict( \n",
    "                type='stereographic' ,\n",
    "                scale=1,\n",
    "                rotation = dict(\n",
    "                lat = -90)\n",
    "            ),\n",
    "            showocean = True,\n",
    "            oceancolor = 'rgb(217, 217, 217)',\n",
    "            subunitwidth=1,\n",
    "            countrywidth=1,\n",
    "            subunitcolor=\"rgb(255, 255, 255)\",\n",
    "            countrycolor=\"rgb(255, 255, 255)\"\n",
    "        ),\n",
    "    )\n",
    "\n",
    "fig = dict( data=ais_lmass1+ais_lmass2, layout=layout )\n",
    "\n",
    "#--- using the plotly server to plot the map\n",
    "py.iplot( fig, validate=False, filename='AIS_map' )\n",
    "#--- offline saving mode (to html file)\n",
    "# offline.plot(fig, validate=False, filename='AIS_map.html')\n"
   ]
  },
  {
   "cell_type": "code",
   "execution_count": null,
   "metadata": {},
   "outputs": [],
   "source": []
  },
  {
   "cell_type": "code",
   "execution_count": null,
   "metadata": {},
   "outputs": [],
   "source": []
  },
  {
   "cell_type": "code",
   "execution_count": null,
   "metadata": {},
   "outputs": [],
   "source": []
  },
  {
   "cell_type": "code",
   "execution_count": null,
   "metadata": {},
   "outputs": [],
   "source": []
  },
  {
   "cell_type": "code",
   "execution_count": null,
   "metadata": {},
   "outputs": [],
   "source": []
  },
  {
   "cell_type": "code",
   "execution_count": null,
   "metadata": {},
   "outputs": [],
   "source": []
  },
  {
   "cell_type": "markdown",
   "metadata": {},
   "source": [
    "***\n",
    "# Testing the time series plot\n"
   ]
  },
  {
   "cell_type": "code",
   "execution_count": 11,
   "metadata": {},
   "outputs": [],
   "source": [
    "aisfile='/Users/joedhsu/Research/Rsync/Data_t/GRACE05_CSR/004_154/Antarctica/slf.t60.s300.m.deg1.scaMB_decom_multi.IVANS_IJ05_IMBIE.ptcorr.rf.200204_201410.regress.regts.agmask.-66_66.nc'\n",
    "gisfile='/Users/joedhsu/Research/Rsync/Data_t/GRACE05_CSR/004_154/Greenland/slf.t60.s300.m.deg1.scaMB_decom_multi.GERUO_ICE5_COMP.ptcorr.rf.200204_201410.regress.regts.agmask.-66_66.nc'\n",
    "lwmfile='/Users/joedhsu/Research/Rsync/Data_t/GRACE05_CSR/004_154/Landwater/slf.f.t60.s300.m.deg1.scaCLM4.5bgc_gict_hydt_ind_decom_multi.GERUO_ICE5_COMP.ptcorr.rf.200204_201410.regress.regts.agmask.-66_66.nc'\n",
    "aodfile='/Users/joedhsu/Research/Rsync/Data_t/GRACE05_CSR/004_154/GAC/slf.t100.s0.m.deg1.rf.200204_201410.regress.regts.agmask.-66_66.nc'\n",
    "glofile='/Users/joedhsu/Research/Rsync/Data_t/GRACE05_CSR/004_154/Global/slf.landf.t60.s300.m.deg1.scaCLM4.5bgc_gict_hydt_ind_decom_multi_MB_decom_multi.IVANS_IJ05_IMBIE_GERUO_ICE5_COMP.GAC.t100.ptcorr.rf.200204_201410.regress.regts.agmask.-66_66.nc'\n",
    "\n",
    "ais=ncdf_io(aisfile)\n",
    "gis=ncdf_io(gisfile)\n",
    "lwm=ncdf_io(lwmfile)\n",
    "aod=ncdf_io(aodfile)\n",
    "glo=ncdf_io(glofile)"
   ]
  },
  {
   "cell_type": "code",
   "execution_count": 12,
   "metadata": {},
   "outputs": [
    {
     "name": "stdout",
     "output_type": "stream",
     "text": [
      "\n",
      "\n",
      "#   ncfile dimensions \n",
      "----------------------------------\n",
      "time 139\n",
      "\n",
      "\n",
      "#   ncfile variables \n",
      "----------------------------------\n",
      "anoSLF_Pac (139,)\n",
      "    dim: [u'time']\n",
      "anoSLF_Atl (139,)\n",
      "    dim: [u'time']\n",
      "anoSLF_Ind (139,)\n",
      "    dim: [u'time']\n",
      "anoSLF_SumPacAtlInd (139,)\n",
      "    dim: [u'time']\n",
      "anoSLF_global (139,)\n",
      "    dim: [u'time']\n",
      "yeardate (139,)\n",
      "    dim: [u'time']\n",
      "\n",
      "\n",
      "#   ncfile dimensions \n",
      "----------------------------------\n",
      "time 139\n",
      "\n",
      "\n",
      "#   ncfile variables \n",
      "----------------------------------\n",
      "anoSLF_Pac (139,)\n",
      "    dim: [u'time']\n",
      "anoSLF_Atl (139,)\n",
      "    dim: [u'time']\n",
      "anoSLF_Ind (139,)\n",
      "    dim: [u'time']\n",
      "anoSLF_SumPacAtlInd (139,)\n",
      "    dim: [u'time']\n",
      "anoSLF_global (139,)\n",
      "    dim: [u'time']\n",
      "yeardate (139,)\n",
      "    dim: [u'time']\n",
      "\n",
      "\n",
      "#   ncfile dimensions \n",
      "----------------------------------\n",
      "time 139\n",
      "\n",
      "\n",
      "#   ncfile variables \n",
      "----------------------------------\n",
      "anoSLF_Pac (139,)\n",
      "    dim: [u'time']\n",
      "anoSLF_Atl (139,)\n",
      "    dim: [u'time']\n",
      "anoSLF_Ind (139,)\n",
      "    dim: [u'time']\n",
      "anoSLF_SumPacAtlInd (139,)\n",
      "    dim: [u'time']\n",
      "anoSLF_global (139,)\n",
      "    dim: [u'time']\n",
      "yeardate (139,)\n",
      "    dim: [u'time']\n",
      "\n",
      "\n",
      "#   ncfile dimensions \n",
      "----------------------------------\n",
      "time 139\n",
      "\n",
      "\n",
      "#   ncfile variables \n",
      "----------------------------------\n",
      "anoSLF_Pac (139,)\n",
      "    dim: [u'time']\n",
      "anoSLF_Atl (139,)\n",
      "    dim: [u'time']\n",
      "anoSLF_Ind (139,)\n",
      "    dim: [u'time']\n",
      "anoSLF_SumPacAtlInd (139,)\n",
      "    dim: [u'time']\n",
      "anoSLF_global (139,)\n",
      "    dim: [u'time']\n",
      "yeardate (139,)\n",
      "    dim: [u'time']\n",
      "\n",
      "\n",
      "#   ncfile dimensions \n",
      "----------------------------------\n",
      "time 139\n",
      "\n",
      "\n",
      "#   ncfile variables \n",
      "----------------------------------\n",
      "anoSLF_Pac (139,)\n",
      "    dim: [u'time']\n",
      "anoSLF_Atl (139,)\n",
      "    dim: [u'time']\n",
      "anoSLF_Ind (139,)\n",
      "    dim: [u'time']\n",
      "anoSLF_SumPacAtlInd (139,)\n",
      "    dim: [u'time']\n",
      "anoSLF_global (139,)\n",
      "    dim: [u'time']\n",
      "yeardate (139,)\n",
      "    dim: [u'time']\n"
     ]
    }
   ],
   "source": [
    "ds_ais=ais.read_ncdf2xarray()\n",
    "ds_gis=gis.read_ncdf2xarray()\n",
    "ds_lwm=lwm.read_ncdf2xarray()\n",
    "ds_aod=aod.read_ncdf2xarray()\n",
    "ds_glo=glo.read_ncdf2xarray()"
   ]
  },
  {
   "cell_type": "markdown",
   "metadata": {},
   "source": [
    "# Offline plotting \n",
    "### Output in notebook"
   ]
  },
  {
   "cell_type": "code",
   "execution_count": 13,
   "metadata": {},
   "outputs": [],
   "source": [
    "%matplotlib inline"
   ]
  },
  {
   "cell_type": "markdown",
   "metadata": {},
   "source": [
    "### Function below is included in the time_convert.py "
   ]
  },
  {
   "cell_type": "code",
   "execution_count": 14,
   "metadata": {},
   "outputs": [],
   "source": [
    "def year2year_mon(yeardate):\n",
    "    mon=yeardate-np.floor(yeardate)\n",
    "    year=yeardate-mon\n",
    "    mon1year=1/24.+1./12.*np.arange(12.)\n",
    "    month=[]\n",
    "    year_month_str=[]\n",
    "    i=0\n",
    "    for m in mon:\n",
    "        mon_ind=np.where(np.abs(mon1year-m)<1E-8)[0]\n",
    "        month.append(mon_ind+1)\n",
    "        year_month_str.append(\"%0.4i-%0.2i\"%(year[i],month[i]))\n",
    "        i+=1\n",
    "    \n",
    "    return {'year':year,'month': month, 'string':year_month_str}\n",
    "    "
   ]
  },
  {
   "cell_type": "markdown",
   "metadata": {},
   "source": [
    "### Plotting the global mean sea level contribution from mass changes "
   ]
  },
  {
   "cell_type": "code",
   "execution_count": 305,
   "metadata": {},
   "outputs": [
    {
     "data": {
      "text/html": [
       "<script>requirejs.config({paths: { 'plotly': ['https://cdn.plot.ly/plotly-latest.min']},});if(!window.Plotly) {{require(['plotly'],function(plotly) {window.Plotly=plotly;});}}</script>"
      ],
      "text/vnd.plotly.v1+html": [
       "<script>requirejs.config({paths: { 'plotly': ['https://cdn.plot.ly/plotly-latest.min']},});if(!window.Plotly) {{require(['plotly'],function(plotly) {window.Plotly=plotly;});}}</script>"
      ]
     },
     "metadata": {},
     "output_type": "display_data"
    },
    {
     "data": {
      "text/html": [
       "<iframe id=\"igraph\" scrolling=\"no\" style=\"border:none;\" seamless=\"seamless\" src=\"https://plot.ly/~chiaweh2/16.embed\" height=\"525px\" width=\"100%\"></iframe>"
      ],
      "text/plain": [
       "<plotly.tools.PlotlyDisplay object>"
      ]
     },
     "execution_count": 305,
     "metadata": {},
     "output_type": "execute_result"
    }
   ],
   "source": [
    "import plotly\n",
    "import plotly.graph_objs as go\n",
    "from time_convert import *\n",
    "\n",
    "plotly.offline.init_notebook_mode(connected=True)\n",
    "\n",
    "yeardate=np.array(ds_ais['yeardate'])\n",
    "dict1=time_convert(yeardate).year2year_mon()\n",
    "# dict1=year2year_mon(yeardate)\n",
    "yeardate_str=dict1['string']\n",
    "gais=np.round(np.array(ds_ais['anoSLF_global'])-np.array(ds_ais['anoSLF_global'])[0],decimals=1)\n",
    "ggis=np.round(np.array(ds_gis['anoSLF_global'])-np.array(ds_gis['anoSLF_global'])[0],decimals=1)\n",
    "glwm=np.round(np.array(ds_lwm['anoSLF_global'])-np.array(ds_lwm['anoSLF_global'])[0],decimals=1)\n",
    "gaod=np.round(np.array(ds_aod['anoSLF_global'])-np.array(ds_aod['anoSLF_global'])[0],decimals=1)\n",
    "gglo=np.round(np.array(ds_glo['anoSLF_global'])-np.array(ds_glo['anoSLF_global'])[0],decimals=1)\n",
    "\n",
    "\n",
    "gplt_ais = go.Scatter(name='Antarctic ice sheet',\n",
    "                         x=yeardate_str,\n",
    "                         y=gais)\n",
    "gplt_gis = go.Scatter(name='Greenland ice sheet',\n",
    "                         x=yeardate_str,\n",
    "                         y=ggis)\n",
    "gplt_lwm = go.Scatter(name=\"Land water storage\",\n",
    "                         x=yeardate_str,\n",
    "                         y=glwm)\n",
    "gplt_aod = go.Scatter(name=\"Atmosphere water vapor\",\n",
    "                         x=yeardate_str,\n",
    "                         y=gaod)\n",
    "gplt_glo = go.Scatter(name=\"Sum\",\n",
    "                         x=yeardate_str,\n",
    "                         y=gglo)\n",
    "layout = dict(\n",
    "            title = 'Global Mean Sea Level',\n",
    "            showlegend = True,\n",
    "            calendar = \"gregorian\",\n",
    "            xaxis= dict(title='Year'),\n",
    "            yaxis= dict(title='Global Mean Sea Level (mm)')\n",
    "             )\n",
    "    \n",
    "data=[gplt_ais,gplt_gis,gplt_lwm,gplt_aod,gplt_glo]\n",
    "\n",
    "py.iplot(dict(data=data,layout=layout),filename='plot_gsl')\n",
    "# plotly.offline.plot(dict(data=data,layout=layout),filename='plot_gsl.html'\\\n",
    "#                          ,include_plotlyjs=False,output_type ='div' )\n",
    "# plotly.offline.plot(dict(data=data,layout=layout),filename='./figures/plot_gsl.html')"
   ]
  },
  {
   "cell_type": "markdown",
   "metadata": {},
   "source": [
    "### Function below is for multivariance regression"
   ]
  },
  {
   "cell_type": "code",
   "execution_count": 261,
   "metadata": {},
   "outputs": [],
   "source": [
    "import numpy as np\n",
    "from numpy import linalg as la\n",
    "\n",
    "class regress :\n",
    "    \"\"\"\n",
    "    The regress class is a modification and improvement of the module.regress.py\n",
    "    The class is created to be more generic in importing different number of variate\n",
    "    when performing multi-variate regression. \n",
    "    \n",
    "    \"\"\"\n",
    "    \n",
    "    def __init__(self, axis, axis_rel=0., err_weighted='N',err=1.):\n",
    "        \"\"\"\n",
    "        Parameters:\n",
    "            axis : np.array,\n",
    "                one dimension numpy array that define the time/space\n",
    "                of each variate\n",
    "                \n",
    "            axis_rel : np.float\n",
    "                number representing the reference value on the axis. \n",
    "                Default is set to 0 => meaning the axis remains as it is\n",
    "                if list_variates is set manually => keep axis_rel=0.\n",
    "                    unless the list_variates is also corrected based on\n",
    "                    the axis_rel value.\n",
    "                \n",
    "            err_weighted : string\n",
    "                'Y' or 'N' to determine whether the weighted regression is \n",
    "                perfermed or not. The weighted regression propogate the \n",
    "                measurement error in the observation to the regression \n",
    "                \n",
    "            err : np.float or np.array\n",
    "                measurement error per observation (can be different per obs.)\n",
    "                but need to be the same length as the axis array\n",
    "                \n",
    "        Attributes:\n",
    "            self.axis: np.array\n",
    "                axis of the time/space of each variate after the relative \n",
    "                frame is removed. This is stored as attribute for future \n",
    "                reference\n",
    "                \n",
    "        \"\"\"\n",
    "        \n",
    "        self.axis=axis-axis_rel\n",
    "        self.axis_rel=axis_rel\n",
    "        self.err_weight=err_weighted\n",
    "        self.err=err\n",
    "        \n",
    "        return\n",
    "\n",
    "        \n",
    "    def def_vars(self, predef_var='', list_variates=[]):\n",
    "        \"\"\"\n",
    "        Creating the designed matrix X for the regression\n",
    "        \n",
    "        Parameters:\n",
    "        \n",
    "            list_variate : list,\n",
    "                list of variates used for the regression\n",
    "                [var1, var2, .....]\n",
    "                variate that one want to relate to the original data \n",
    "                Design matrix X shows the var1, var2,... as colume\n",
    "                Each Column represents a variate\n",
    "        \n",
    "                        /  1  x11 x21 ... xn1 \\          / y1 \\\n",
    "                        |  1  x12 x22 ... xn2 |          | y2 |\n",
    "                        |  .   .   .       .  |          |  . |\n",
    "                    X = |  .   .   .       .  |      Y = |  . |\n",
    "                        |  .   .   .       .  |          |  . |\n",
    "                        \\  1  x1p x2p ... xnp /          \\ yp /\n",
    "\n",
    "                where x1j (j = 0 -> p) means how each variate changes with time/space\n",
    "                      xi1 (i = 0 -> n) means different variates\n",
    "                      yj  means the original data at a single location or time\n",
    "\n",
    "            predef_var: string,\n",
    "                kwarg to call for predefined variates \n",
    "                options - semisea_sea_lin, semisea_sea_lin_quad, fort13_fort14_lin\n",
    "                \n",
    "        Return:\n",
    "            X : np.array \n",
    "                numpy matrix representing the designed matrix\n",
    "                \n",
    "        Attribute:\n",
    "            self.dm_order : list\n",
    "                list of name of the list_variates order\n",
    "                put in the designed matrix.\n",
    "\n",
    "\n",
    "        \"\"\"\n",
    "    \n",
    "        if predef_var == '':    \n",
    "            self.num_var=len(list_variates) # number of variates \n",
    "            X=np.zeros([len(list_variates[0]),self.num_var],dtype=np.float64)\n",
    "            self.dm_order=[]\n",
    "            # designed matrix\n",
    "            for i in range(self.num_var):\n",
    "                X[:,i]=list_variates[i]   \n",
    "                self.dm_order.append('var%i'%(i+1))\n",
    "        else:\n",
    "            # variates below is assuming the time variable is in the unit of year\n",
    "            con=np.zeros([self.axis.shape[0],],dtype=np.float64)+1.\n",
    "            lin=np.zeros([self.axis.shape[0],],dtype=np.float64)+(self.axis)\n",
    "            quad=np.zeros([self.axis.shape[0],],dtype=np.float64)+(self.axis)**2\n",
    "\n",
    "            anncos=np.zeros([self.axis.shape[0],],dtype=np.float64)+np.cos(self.axis*2.*np.pi)\n",
    "            annsin=np.zeros([self.axis.shape[0],],dtype=np.float64)+np.sin(self.axis*2.*np.pi)\n",
    "            semianncos=np.zeros([self.axis.shape[0],],dtype=np.float64)+np.cos(self.axis*4.*np.pi)\n",
    "            semiannsin=np.zeros([self.axis.shape[0],],dtype=np.float64)+np.sin(self.axis*4.*np.pi)\n",
    "            fortnight1_cos=np.zeros([self.axis.shape[0],],dtype=np.float64)\\\n",
    "            +np.cos(self.axis*2.*np.pi*365./13.66)\n",
    "            fortnight1_sin=np.zeros([self.axis.shape[0],],dtype=np.float64)\\\n",
    "            +np.sin(self.axis*2.*np.pi*365./13.66)\n",
    "            fortnight2_cos=np.zeros([self.axis.shape[0],],dtype=np.float64)\\\n",
    "            +np.cos(self.axis*2.*np.pi*365./14.77)\n",
    "            fortnight2_sin=np.zeros([self.axis.shape[0],],dtype=np.float64)\\\n",
    "            +np.sin(self.axis*2.*np.pi*365./14.77)\n",
    " \n",
    "            # Fit (constant + linear trend + annual + semiannual)          \n",
    "            if predef_var == 'semisea_sea_lin':\n",
    "                X=np.zeros([self.axis.shape[0],6],dtype=np.float64)\n",
    "                X[:,0]=con[:]\n",
    "                X[:,1]=lin[:]\n",
    "                X[:,2]=anncos[:]\n",
    "                X[:,3]=annsin[:]\n",
    "                X[:,4]=semianncos[:]\n",
    "                X[:,5]=semiannsin[:]\n",
    "                self.dm_order=['con','lin','anncos','annsin','semianncos','semiannsin']\n",
    "            # Fit (constant + linear trend + annual + semiannual + quadratic)\n",
    "            elif predef_var == 'semisea_sea_lin_quad':\n",
    "                X=np.zeros([self.axis.shape[0],7],dtype=np.float64)\n",
    "                X[:,0]=con[:]\n",
    "                X[:,1]=lin[:]\n",
    "                X[:,2]=anncos[:]\n",
    "                X[:,3]=annsin[:]\n",
    "                X[:,4]=semianncos[:]\n",
    "                X[:,5]=semiannsin[:]\n",
    "                X[:,6]=quad[:]\n",
    "                self.dm_order=['con','lin','anncos','annsin','semianncos','semiannsin','quad']\n",
    "            # Fit (constant + linear + fortnightly1 + fortnightly2)\n",
    "            elif flag == 'fort13_fort14_lin':\n",
    "                X=np.zeros([self.axis.shape[0],6],dtype=np.float64)\n",
    "                X[:,0]=con[:]\n",
    "                X[:,1]=lin[:]\n",
    "                X[:,2]=fortnight1_cos[:]\n",
    "                X[:,3]=fortnight1_sin[:]\n",
    "                X[:,4]=fortnight2_cos[:]\n",
    "                X[:,5]=fortnight2_sin[:] \n",
    "                self.dm_order=['con','lin','fortnight13_cos','fortnight13_sin'\\\n",
    "                               ,'fortnight14_cos','fortnight14_sin']\n",
    "#         self.dm=X\n",
    "        return X\n",
    "            \n",
    "    def multivar_regress(self, Y, predef_var='', list_variates=[]) :\n",
    "        \"\"\"\n",
    "        The method is the multi-variate-regression that simultaniously fit \n",
    "        multiple variates (x1,x2,....) in one single regression to derive\n",
    "        the best fitting line to represent the original data (Y)\n",
    "        \n",
    "        Parameters:\n",
    "            Y: np.array \n",
    "              the original data value (Vector of responses)\n",
    "              \n",
    "            list_variates: list, \n",
    "                list of variates used for the regression\n",
    "                [var1, var2, .....] to form the design matrix\n",
    "                \n",
    "                    Design matrix = X and Vector of response Y\n",
    "\n",
    "                        /  1  x11 x21 ... xn1 \\          / y1 \\\n",
    "                        |  1  x12 x22 ... xn2 |          | y2 |\n",
    "                        |  .   .   .       .  |          |  . |\n",
    "                    X = |  .   .   .       .  |      Y = |  . |\n",
    "                        |  .   .   .       .  |          |  . |\n",
    "                        \\  1  x1p x2p ... xnp /          \\ yp /\n",
    "\n",
    "            predef_var: string,\n",
    "                kwarg to call for predefined variates \n",
    "                options - semisea_sea_lin, semisea_sea_lin_quad, fort13_fort14_lin}\n",
    "\n",
    "\n",
    "         Returns:\n",
    "            beta: \n",
    "                the coefficients (dim = num of variates) that relate to each variate\n",
    "                It's order is following the order of variates in the list_variates\n",
    "            err: \n",
    "                the errors that makes the linear combined regression value to deviate \n",
    "                from the original data (Y)\n",
    "        \n",
    "                                 / beta0 \\          / e1 \\\n",
    "                                 | beta1 |          | e2 |\n",
    "                                 |   .   |          |  . |\n",
    "                          beta = |   .   |    err = |  . |\n",
    "                                 |   .   |          |  . |\n",
    "                                 \\ betan /          \\ ep /\n",
    "                                 \n",
    "        \n",
    "         Mathematical expression:\n",
    "\n",
    "              R^2= sum (Y-beta*X)   \n",
    "              find the minimum of the equation => first order differential = 0\n",
    "              first order diffferential equation is  X'Y=(X'X) (beta)\n",
    "              so  beta = (X'X)^-1 (X'Y)\n",
    "              where prime means transpose of matrix, ^-1 means inversion of matrix\n",
    "\n",
    "              to solve the weighted system\n",
    "              R^2= sum W(Y-beta*X)   \n",
    "              find the minimum of the equation => first order differential = 0\n",
    "              first order diffferential equation is  X'WY=(X'WX) (beta)\n",
    "              so  beta = (X'WX)^-1 (X'WY)\n",
    "              where \n",
    "                        /1/E^2  0    0   ...  0   \\\n",
    "                        |  0  1/E^2  0   ...  0   |\n",
    "                        |  0    0  1/E^2 ...  0   |\n",
    "                    W = |  .    .    .            |\n",
    "                        |  .    .    .            |\n",
    "                        \\  0    0    0   ...1/E^2 /\n",
    "                        \n",
    "              the matrix representing the reciprical of the error square \n",
    "              at each observed value (can be different at each time step)\n",
    "              The weighted regression propogate the measurement error in \n",
    "              the observation to the regression [Schuckmann et al., 2011,\n",
    "              Llovel et al., 2014]\n",
    "            \n",
    "                \n",
    "        \"\"\"\n",
    "\n",
    "        #-- reshape the Y array to column\n",
    "        Y=np.reshape(Y,[Y.shape[0],1])\n",
    "        # determine the design matrix\n",
    "        X=self.def_vars(predef_var=predef_var, list_variates=list_variates)\n",
    "        \n",
    "        #-- determine to perform weighted regression or not\n",
    "        if self.err_weight.upper() in ['Y']:\n",
    "            ww=np.zeros(len(time))+1./self.err**2           # the variance of obs. error\n",
    "            W=np.diag(ww) \n",
    "            term1=np.dot(np.transpose(X),np.dot(W,X))       #(X'WX)            \n",
    "        else :\n",
    "            term1=np.dot(np.transpose(X),X)                 #(X'X)\n",
    "            \n",
    "        #-- calculate the determinant for matrix inverse \n",
    "        detterm1=la.det(term1)\n",
    "        if detterm1 == np.float64(0.) :\n",
    "           print \"Error64: No inverse of (X'X) or (X'WX) \"\n",
    "           return\n",
    "        \n",
    "        #-- calculate the matrix inverse \n",
    "        term1_1=la.inv(term1)                               #(X'X)^-1 or (X'WX)^-1\n",
    "        \n",
    "        #-- calculate the right hand side\n",
    "        if self.err_weight.upper() in ['Y']:  \n",
    "            term2=np.dot(np.transpose(X),np.dot(W,Y))       #(X'WY)            \n",
    "        else :\n",
    "            term2=np.dot(np.transpose(X),Y)                 #(X'Y) \n",
    "            \n",
    "        #-- matrix multiplication of RHS and inverse matrix\n",
    "        beta=np.dot(term1_1,term2)                          #(X'X)^-1(X'Y) or (X'WX)^-1(X'WY)\n",
    "                \n",
    "        #-- store attribute in the regression\n",
    "        self.nvars=X.shape[1]                              # store number of variates\n",
    "        self.dof=len(self.axis)-self.nvars                 # store degree of freedom in the regress\n",
    "     \n",
    "        #-- calculate uncertainties\n",
    "        # the diag of rmse*sqrt(X_var)^-1 represents the std of uncertainty \n",
    "        # in the regression for each variate\n",
    "        Yreg=np.dot(X,np.reshape(beta,[beta.shape[0],1]))  # (X) dot (beta) => regression model\n",
    "        Yreg=np.reshape(Yreg,[Yreg.shape[0],1])\n",
    "        misfit=Y-Yreg     \n",
    "        rmse=np.sqrt(np.sum(misfit**2)/(self.dof))         # RMSE between the model and obs.\n",
    "        X_var=np.dot(np.transpose(X),X)\n",
    "        se=rmse*np.sqrt(np.diag(la.inv(X_var)))  \n",
    "        \n",
    "        #-- output the design matrix in the form of list_variates\n",
    "        if list_variates == []:\n",
    "            list_variates = [X[:,i] for i in range(X.shape[1])] \n",
    "            \n",
    "        return {'beta':beta[:,0],'se':se,'rmse':rmse,\n",
    "                  'model':Yreg[:,0],'list_variates':list_variates}\n",
    "\n",
    "    \n",
    "    \n"
   ]
  },
  {
   "cell_type": "code",
   "execution_count": 296,
   "metadata": {},
   "outputs": [],
   "source": [
    "import scipy.stats\n",
    "import sys\n",
    "class ci2nstd:\n",
    "    def __init__(self) :\n",
    "        return\n",
    "    \n",
    "    def t_dist(self, ci, dof, ntail=2):\n",
    "        if ntail != 1 and ntail != 2 :\n",
    "            print \"ntail can only be 1 or 2 \"\n",
    "            sys.exit('')\n",
    "        else:\n",
    "            self.alpha=1.-ci/100.\n",
    "            self.nstd=scipy.stats.t.ppf(1.0-(self.alpha/ntail),dof)\n",
    "            self.dof=dof\n",
    "            self.ntail=ntail\n",
    "        return self.nstd\n",
    "        "
   ]
  },
  {
   "cell_type": "code",
   "execution_count": 299,
   "metadata": {},
   "outputs": [],
   "source": [
    "obj=ci2nstd()\n",
    "a=obj.t_dist(99,reg.dof,ntail=2)\n"
   ]
  },
  {
   "cell_type": "markdown",
   "metadata": {},
   "source": [
    "### Use the class regress \n"
   ]
  },
  {
   "cell_type": "markdown",
   "metadata": {},
   "source": [
    "Tested the different axis_rel options\n",
    "1. rel= 0\n",
    "2. rel= yeardate[0]\n",
    "3. rel= mean(yeardate)\n",
    "\n",
    "Since the mean is being fitted by the constant variate \n",
    "other variate estimate and standard error are not affected\n",
    "by the changing reference axis position\n",
    "\n",
    "**However, when using the manual entered** `list_variates` **one need to remember to set the** `axis_rel=0.`"
   ]
  },
  {
   "cell_type": "markdown",
   "metadata": {},
   "source": [
    "[first cell](#first cell)"
   ]
  },
  {
   "cell_type": "code",
   "execution_count": 259,
   "metadata": {},
   "outputs": [
    {
     "name": "stdout",
     "output_type": "stream",
     "text": [
      "---------------------------\n",
      "Regress result:\n",
      "['con', 'lin', 'anncos', 'annsin', 'semianncos', 'semiannsin']\n",
      "-3517.428521355614\n",
      "82.00474202514879\n",
      "1.682196123268106\n"
     ]
    }
   ],
   "source": [
    "reg=regress(yeardate, axis_rel=0)\n",
    "gglo_reg=reg.multivar_regress(gglo,predef_var='semisea_sea_lin')\n",
    "gglo_model=np.round(gglo_reg['model'],decimals=1)\n",
    "print '---------------------------'\n",
    "print 'Regress result:'\n",
    "print reg.dm_order[:] \n",
    "print gglo_reg['beta'][0]\n",
    "print gglo_reg['se'][0]\n",
    "print gglo_reg['rmse']"
   ]
  },
  {
   "cell_type": "code",
   "execution_count": 242,
   "metadata": {},
   "outputs": [
    {
     "name": "stdout",
     "output_type": "stream",
     "text": [
      "---------------------------\n",
      "Regress result:\n",
      "['con', 'lin', 'anncos', 'annsin', 'semianncos', 'semiannsin']\n",
      "10.171776205288865\n",
      "0.2867088209134094\n",
      "1.6821961232681608\n"
     ]
    }
   ],
   "source": [
    "reg=regress(yeardate, axis_rel=yeardate[0])\n",
    "gglo_reg=reg.multivar_regress(gglo,predef_var='semisea_sea_lin')\n",
    "gglo_model=np.round(gglo_reg['model'],decimals=1)\n",
    "print '---------------------------'\n",
    "print 'Regress result:'\n",
    "print reg.dm_order[:] \n",
    "print gglo_reg['beta'][0]\n",
    "print gglo_reg['se'][0]\n",
    "print gglo_reg['rmse']"
   ]
  },
  {
   "cell_type": "code",
   "execution_count": 244,
   "metadata": {},
   "outputs": [
    {
     "name": "stdout",
     "output_type": "stream",
     "text": [
      "---------------------------\n",
      "Regress result:\n",
      "['con', 'lin', 'anncos', 'annsin', 'semianncos', 'semiannsin']\n",
      "20.89350486486263\n",
      "0.14281575587619869\n",
      "1.6821961232681621\n"
     ]
    }
   ],
   "source": [
    "reg=regress(yeardate, axis_rel=np.mean(yeardate))\n",
    "gglo_reg=reg.multivar_regress(gglo,predef_var='semisea_sea_lin')\n",
    "gglo_model=np.round(gglo_reg['model'],decimals=1)\n",
    "print '---------------------------'\n",
    "print 'Regress result:'\n",
    "print reg.dm_order[:] \n",
    "print gglo_reg['beta'][0]\n",
    "print gglo_reg['se'][0]     \n",
    "print gglo_reg['rmse']"
   ]
  },
  {
   "cell_type": "markdown",
   "metadata": {},
   "source": [
    "### Testing the list_variates\n",
    "\n",
    "running the <a id='first cell'> **cell above** </a>"
   ]
  },
  {
   "cell_type": "code",
   "execution_count": 262,
   "metadata": {},
   "outputs": [
    {
     "name": "stdout",
     "output_type": "stream",
     "text": [
      "---------------------------\n",
      "Regress result:\n",
      "['var1', 'var2', 'var3', 'var4', 'var5', 'var6']\n",
      "-3517.428521355614\n",
      "82.00474202514879\n",
      "1.682196123268106\n"
     ]
    }
   ],
   "source": [
    "reg=regress(yeardate, axis_rel=0.)\n",
    "gglo_reg=reg.multivar_regress(gglo,list_variates= gglo_reg['list_variates'])\n",
    "gglo_model=np.round(gglo_reg['model'],decimals=1)\n",
    "print '---------------------------'\n",
    "print 'Regress result:'\n",
    "print reg.dm_order[:] \n",
    "print gglo_reg['beta'][0]\n",
    "print gglo_reg['se'][0]     \n",
    "print gglo_reg['rmse']"
   ]
  },
  {
   "cell_type": "markdown",
   "metadata": {},
   "source": [
    "### Plot the time series removing the regressed model"
   ]
  },
  {
   "cell_type": "code",
   "execution_count": 248,
   "metadata": {},
   "outputs": [
    {
     "name": "stdout",
     "output_type": "stream",
     "text": [
      "---------------------------\n",
      "Model includes:\n",
      "  anncos\n",
      "  annsin\n",
      "  semianncos\n",
      "  semiannsin\n"
     ]
    }
   ],
   "source": [
    "### seasonal and semiseasonal \n",
    "fre_list=[2,3,4,5]\n",
    "def_model1=np.zeros(len(yeardate))\n",
    "print '---------------------------'\n",
    "print 'Model includes:'\n",
    "for i in fre_list:\n",
    "    def_model1+=np.array(gglo_reg['list_variates'][i])*gglo_reg['beta'][i]\n",
    "    print ' ',reg.dm_order[i]  "
   ]
  },
  {
   "cell_type": "code",
   "execution_count": 255,
   "metadata": {},
   "outputs": [
    {
     "name": "stdout",
     "output_type": "stream",
     "text": [
      "---------------------------\n",
      "Model includes:\n",
      "  con\n",
      "  lin\n"
     ]
    }
   ],
   "source": [
    "### linear\n",
    "fre_list=[0,1]\n",
    "def_model2=np.zeros(len(yeardate))\n",
    "print '---------------------------'\n",
    "print 'Model includes:'\n",
    "for i in fre_list:\n",
    "    def_model2+=np.array(gglo_reg['list_variates'][i])*gglo_reg['beta'][i]\n",
    "    print ' ',reg.dm_order[i]  "
   ]
  },
  {
   "cell_type": "code",
   "execution_count": 309,
   "metadata": {},
   "outputs": [
    {
     "data": {
      "text/plain": [
       "u'<div id=\"39508f47-f820-407f-b383-20ae6e84bdca\" style=\"height: 100%; width: 100%;\" class=\"plotly-graph-div\"></div><script type=\"text/javascript\">window.PLOTLYENV=window.PLOTLYENV || {};window.PLOTLYENV.BASE_URL=\"https://plot.ly\";Plotly.newPlot(\"39508f47-f820-407f-b383-20ae6e84bdca\", [{\"y\": [0.0, 2.2, 15.4, 19.3, 21.4, 19.1, 17.5, 13.2, 11.1, 6.9, 6.1, 8.0, 12.0, 16.1, 18.5, 22.1, 20.1, 18.1, 15.7, 10.4, 7.8, 4.8, 5.4, 8.7, 10.4, 17.1, 19.0, 22.3, 20.5, 17.3, 14.9, 11.6, 8.6, 6.4, 7.2, 13.0, 16.4, 20.0, 22.5, 23.7, 24.3, 21.1, 17.6, 13.7, 9.2, 6.7, 9.3, 11.5, 18.4, 23.1, 26.7, 28.2, 25.5, 22.1, 17.8, 13.3, 11.2, 11.3, 12.8, 15.5, 19.9, 22.5, 27.3, 31.1, 30.3, 26.6, 23.1, 17.5, 13.5, 12.1, 14.7, 17.0, 20.7, 22.7, 27.1, 29.3, 28.8, 24.8, 21.5, 18.0, 13.7, 11.5, 13.3, 16.4, 19.8, 25.3, 28.0, 31.6, 31.4, 28.0, 22.0, 19.3, 17.0, 15.7, 15.7, 20.2, 22.9, 26.4, 30.0, 32.5, 31.4, 27.9, 19.9, 16.3, 13.7, 14.5, 24.0, 28.6, 33.4, 34.9, 34.2, 31.0, 29.1, 24.8, 20.7, 20.3, 26.6, 30.1, 33.7, 37.8, 39.4, 37.8, 33.6, 31.1, 22.0, 24.4, 26.2, 30.9, 38.9, 37.9, 37.0, 33.0, 23.8, 22.7, 22.2, 25.9, 35.1, 39.4, 41.8], \"x\": [\"2002-04\", \"2002-05\", \"2002-08\", \"2002-09\", \"2002-10\", \"2002-11\", \"2002-12\", \"2003-01\", \"2003-02\", \"2003-03\", \"2003-04\", \"2003-05\", \"2003-07\", \"2003-08\", \"2003-09\", \"2003-10\", \"2003-11\", \"2003-12\", \"2004-01\", \"2004-02\", \"2004-03\", \"2004-04\", \"2004-05\", \"2004-06\", \"2004-07\", \"2004-08\", \"2004-09\", \"2004-10\", \"2004-11\", \"2004-12\", \"2005-01\", \"2005-02\", \"2005-03\", \"2005-04\", \"2005-05\", \"2005-06\", \"2005-07\", \"2005-08\", \"2005-09\", \"2005-10\", \"2005-11\", \"2005-12\", \"2006-01\", \"2006-02\", \"2006-03\", \"2006-04\", \"2006-05\", \"2006-06\", \"2006-07\", \"2006-08\", \"2006-09\", \"2006-10\", \"2006-11\", \"2006-12\", \"2007-01\", \"2007-02\", \"2007-03\", \"2007-04\", \"2007-05\", \"2007-06\", \"2007-07\", \"2007-08\", \"2007-09\", \"2007-10\", \"2007-11\", \"2007-12\", \"2008-01\", \"2008-02\", \"2008-03\", \"2008-04\", \"2008-05\", \"2008-06\", \"2008-07\", \"2008-08\", \"2008-09\", \"2008-10\", \"2008-11\", \"2008-12\", \"2009-01\", \"2009-02\", \"2009-03\", \"2009-04\", \"2009-05\", \"2009-06\", \"2009-07\", \"2009-08\", \"2009-09\", \"2009-10\", \"2009-11\", \"2009-12\", \"2010-01\", \"2010-02\", \"2010-03\", \"2010-04\", \"2010-05\", \"2010-06\", \"2010-07\", \"2010-08\", \"2010-09\", \"2010-10\", \"2010-11\", \"2010-12\", \"2011-02\", \"2011-03\", \"2011-04\", \"2011-05\", \"2011-07\", \"2011-08\", \"2011-09\", \"2011-10\", \"2011-11\", \"2011-12\", \"2012-01\", \"2012-02\", \"2012-03\", \"2012-04\", \"2012-06\", \"2012-07\", \"2012-08\", \"2012-09\", \"2012-11\", \"2012-12\", \"2013-01\", \"2013-02\", \"2013-04\", \"2013-05\", \"2013-06\", \"2013-07\", \"2013-10\", \"2013-11\", \"2013-12\", \"2014-01\", \"2014-03\", \"2014-04\", \"2014-05\", \"2014-06\", \"2014-08\", \"2014-09\", \"2014-10\"], \"type\": \"scatter\", \"name\": \"Barystatic\", \"uid\": \"9b5911ca-9104-11e8-af63-186590dbb7c5\"}, {\"y\": [8.702267187971309, 10.003558269689222, 11.855523216965441, 12.540663919775332, 13.10488416247249, 11.342746257512907, 12.342209595060925, 12.155777810546352, 14.598172255835502, 14.020182903469095, 14.802267187971745, 15.803558269693816, 12.637070839022398, 12.555523216960596, 11.740663919780793, 13.804884162471819, 12.342746257509342, 12.94220959506534, 14.655777810536298, 13.898172255840937, 14.920182903463026, 13.50226718797218, 13.203558269691197, 13.496943581689631, 11.037070839016904, 13.55552321695575, 12.240663919777678, 14.004884162473003, 12.742746257511374, 12.1422095950576, 13.855777810542033, 15.09817225583141, 15.720182903466487, 15.102267187971417, 15.003558269688575, 17.796943581697974, 17.03707083901141, 16.45552321696425, 15.740663919774564, 15.404884162472325, 16.542746257513407, 15.942209595062012, 16.55577781053198, 17.19817225583684, 16.32018290346995, 15.402267187971855, 17.10355826969317, 16.29694358169322, 19.037070839021045, 19.555523216959404, 19.940663919780025, 19.90488416247165, 17.742746257509843, 16.942209595066423, 16.75577781053771, 16.798172255842275, 18.320182903463877, 20.002267187971086, 20.603558269690552, 20.296943581688463, 20.53707083901555, 18.9555232169679, 20.54066391977691, 22.80488416247284, 22.542746257511876, 21.44220959505869, 22.055777810543447, 20.998172255832745, 20.620182903467338, 20.802267187971523, 22.503558269687932, 21.796943581696805, 21.337070839010057, 19.155523216963054, 20.3406639197738, 21.004884162472163, 21.04274625750831, 19.642209595063097, 20.45577781053339, 21.498172255838178, 20.82018290346127, 20.202267187971955, 21.103558269692527, 21.196943581692047, 20.437070839019693, 21.75552321695821, 21.24066391977926, 23.304884162471488, 23.642746257510343, 22.84220959506751, 20.95577781053912, 22.79817225584361, 24.12018290346473, 24.402267187971194, 23.503558269689904, 24.99694358170039, 23.5370708390142, 22.855523216966706, 23.240663919776143, 24.20488416247267, 23.642746257512375, 22.742209595059773, 23.398172255834083, 23.42018290346819, 22.40226718797163, 22.303558269687286, 24.63707083902383, 25.055523216961863, 26.64066391977303, 26.604884162471993, 26.442746257508812, 25.842209595064183, 28.055777810534803, 28.298172255839518, 27.820182903462122, 29.002267187972066, 31.396943581690877, 30.73707083901834, 30.155523216957018, 31.04066391977849, 31.64274625751084, 32.64220959506859, 32.55577781054053, 34.598172255829994, 30.7022671879713, 32.20355826968926, 30.996943581699217, 31.537070839012845, 30.6048841624725, 30.142746257512876, 31.842209595060858, 31.95577781054627, 30.920182903469044, 31.402267187971738, 30.003558269693855, 30.69694358169446, 31.55552321696067, 32.64066391978084, 33.504884162471825], \"x\": [\"2002-04\", \"2002-05\", \"2002-08\", \"2002-09\", \"2002-10\", \"2002-11\", \"2002-12\", \"2003-01\", \"2003-02\", \"2003-03\", \"2003-04\", \"2003-05\", \"2003-07\", \"2003-08\", \"2003-09\", \"2003-10\", \"2003-11\", \"2003-12\", \"2004-01\", \"2004-02\", \"2004-03\", \"2004-04\", \"2004-05\", \"2004-06\", \"2004-07\", \"2004-08\", \"2004-09\", \"2004-10\", \"2004-11\", \"2004-12\", \"2005-01\", \"2005-02\", \"2005-03\", \"2005-04\", \"2005-05\", \"2005-06\", \"2005-07\", \"2005-08\", \"2005-09\", \"2005-10\", \"2005-11\", \"2005-12\", \"2006-01\", \"2006-02\", \"2006-03\", \"2006-04\", \"2006-05\", \"2006-06\", \"2006-07\", \"2006-08\", \"2006-09\", \"2006-10\", \"2006-11\", \"2006-12\", \"2007-01\", \"2007-02\", \"2007-03\", \"2007-04\", \"2007-05\", \"2007-06\", \"2007-07\", \"2007-08\", \"2007-09\", \"2007-10\", \"2007-11\", \"2007-12\", \"2008-01\", \"2008-02\", \"2008-03\", \"2008-04\", \"2008-05\", \"2008-06\", \"2008-07\", \"2008-08\", \"2008-09\", \"2008-10\", \"2008-11\", \"2008-12\", \"2009-01\", \"2009-02\", \"2009-03\", \"2009-04\", \"2009-05\", \"2009-06\", \"2009-07\", \"2009-08\", \"2009-09\", \"2009-10\", \"2009-11\", \"2009-12\", \"2010-01\", \"2010-02\", \"2010-03\", \"2010-04\", \"2010-05\", \"2010-06\", \"2010-07\", \"2010-08\", \"2010-09\", \"2010-10\", \"2010-11\", \"2010-12\", \"2011-02\", \"2011-03\", \"2011-04\", \"2011-05\", \"2011-07\", \"2011-08\", \"2011-09\", \"2011-10\", \"2011-11\", \"2011-12\", \"2012-01\", \"2012-02\", \"2012-03\", \"2012-04\", \"2012-06\", \"2012-07\", \"2012-08\", \"2012-09\", \"2012-11\", \"2012-12\", \"2013-01\", \"2013-02\", \"2013-04\", \"2013-05\", \"2013-06\", \"2013-07\", \"2013-10\", \"2013-11\", \"2013-12\", \"2014-01\", \"2014-03\", \"2014-04\", \"2014-05\", \"2014-06\", \"2014-08\", \"2014-09\", \"2014-10\"], \"type\": \"scatter\", \"name\": \"Remove seasonal\", \"uid\": \"9b591d0a-9104-11e8-a07f-186590dbb7c5\"}, {\"name\": \"Trend 1.76 +- 0.04 mm/yr\", \"y\": [10.171776201822013, 10.318591321894928, 10.759036682114129, 10.905851802187044, 11.052666922260869, 11.199482042333784, 11.3462971624067, 11.49311228248007, 11.639927402552985, 11.7867425226259, 11.933557642699725, 12.08037276277264, 12.374003002918926, 12.520818122991841, 12.667633243064756, 12.814448363138581, 12.961263483211496, 13.108078603284412, 13.254893723357782, 13.401708843430697, 13.548523963503612, 13.695339083577437, 13.842154203650352, 13.988969323723268, 14.135784443796638, 14.282599563869553, 14.429414683942468, 14.576229804016293, 14.723044924089209, 14.869860044162124, 15.016675164235494, 15.16349028430841, 15.310305404381324, 15.45712052445515, 15.603935644528065, 15.75075076460098, 15.89756588467435, 16.044381004747265, 16.19119612482018, 16.338011244894005, 16.48482636496692, 16.631641485039836, 16.778456605113206, 16.92527172518612, 17.072086845259037, 17.21890196533286, 17.365717085405777, 17.512532205478692, 17.659347325552062, 17.806162445624977, 17.952977565697893, 18.099792685771718, 18.246607805844633, 18.393422925917548, 18.540238045990918, 18.687053166063833, 18.83386828613675, 18.980683406210574, 19.12749852628349, 19.274313646356404, 19.421128766429774, 19.56794388650269, 19.714759006575605, 19.86157412664943, 20.008389246722345, 20.15520436679526, 20.30201948686863, 20.448834606941546, 20.59564972701446, 20.742464847088286, 20.8892799671612, 21.036095087234116, 21.182910207307486, 21.3297253273804, 21.476540447453317, 21.623355567527142, 21.770170687600057, 21.916985807672972, 22.063800927746342, 22.210616047819258, 22.357431167892173, 22.504246287965998, 22.651061408038913, 22.79787652811183, 22.9446916481852, 23.091506768258114, 23.23832188833103, 23.385137008404854, 23.53195212847777, 23.678767248550685, 23.825582368624055, 23.97239748869697, 24.119212608769885, 24.26602772884371, 24.412842848916625, 24.55965796898954, 24.70647308906291, 24.853288209135826, 25.00010332920874, 25.146918449282566, 25.29373356935548, 25.440548689428397, 25.734178929574682, 25.880994049647597, 26.027809169721422, 26.174624289794338, 26.468254529940623, 26.615069650013538, 26.761884770086453, 26.90869989016028, 27.055515010233194, 27.20233013030611, 27.34914525037948, 27.495960370452394, 27.64277549052531, 27.789590610599134, 28.083220850744965, 28.230035970818335, 28.37685109089125, 28.523666210964166, 28.817296451110906, 28.96411157118382, 29.11092669125719, 29.257741811330106, 29.551372051476847, 29.698187171549762, 29.845002291622677, 29.991817411696047, 30.432262771915703, 30.579077891988618, 30.725893012061533, 30.872708132134903, 31.166338372280734, 31.31315349235456, 31.459968612427474, 31.60678373250039, 31.900413972646675, 32.04722909271959, 32.194044212793415], \"x\": [\"2002-04\", \"2002-05\", \"2002-08\", \"2002-09\", \"2002-10\", \"2002-11\", \"2002-12\", \"2003-01\", \"2003-02\", \"2003-03\", \"2003-04\", \"2003-05\", \"2003-07\", \"2003-08\", \"2003-09\", \"2003-10\", \"2003-11\", \"2003-12\", \"2004-01\", \"2004-02\", \"2004-03\", \"2004-04\", \"2004-05\", \"2004-06\", \"2004-07\", \"2004-08\", \"2004-09\", \"2004-10\", \"2004-11\", \"2004-12\", \"2005-01\", \"2005-02\", \"2005-03\", \"2005-04\", \"2005-05\", \"2005-06\", \"2005-07\", \"2005-08\", \"2005-09\", \"2005-10\", \"2005-11\", \"2005-12\", \"2006-01\", \"2006-02\", \"2006-03\", \"2006-04\", \"2006-05\", \"2006-06\", \"2006-07\", \"2006-08\", \"2006-09\", \"2006-10\", \"2006-11\", \"2006-12\", \"2007-01\", \"2007-02\", \"2007-03\", \"2007-04\", \"2007-05\", \"2007-06\", \"2007-07\", \"2007-08\", \"2007-09\", \"2007-10\", \"2007-11\", \"2007-12\", \"2008-01\", \"2008-02\", \"2008-03\", \"2008-04\", \"2008-05\", \"2008-06\", \"2008-07\", \"2008-08\", \"2008-09\", \"2008-10\", \"2008-11\", \"2008-12\", \"2009-01\", \"2009-02\", \"2009-03\", \"2009-04\", \"2009-05\", \"2009-06\", \"2009-07\", \"2009-08\", \"2009-09\", \"2009-10\", \"2009-11\", \"2009-12\", \"2010-01\", \"2010-02\", \"2010-03\", \"2010-04\", \"2010-05\", \"2010-06\", \"2010-07\", \"2010-08\", \"2010-09\", \"2010-10\", \"2010-11\", \"2010-12\", \"2011-02\", \"2011-03\", \"2011-04\", \"2011-05\", \"2011-07\", \"2011-08\", \"2011-09\", \"2011-10\", \"2011-11\", \"2011-12\", \"2012-01\", \"2012-02\", \"2012-03\", \"2012-04\", \"2012-06\", \"2012-07\", \"2012-08\", \"2012-09\", \"2012-11\", \"2012-12\", \"2013-01\", \"2013-02\", \"2013-04\", \"2013-05\", \"2013-06\", \"2013-07\", \"2013-10\", \"2013-11\", \"2013-12\", \"2014-01\", \"2014-03\", \"2014-04\", \"2014-05\", \"2014-06\", \"2014-08\", \"2014-09\", \"2014-10\"], \"line\": {\"dash\": \"dash\", \"width\": 2}, \"type\": \"scatter\", \"uid\": \"9b591e4a-9104-11e8-9d87-186590dbb7c5\"}], {\"calendar\": \"gregorian\", \"title\": \"Global Mean Sea Level\", \"showlegend\": true, \"xaxis\": {\"title\": \"Year\"}, \"yaxis\": {\"title\": \"Global Mean Sea Level (mm)\"}}, {\"linkText\": \"Export to plot.ly\", \"showLink\": true})</script>'"
      ]
     },
     "execution_count": 309,
     "metadata": {},
     "output_type": "execute_result"
    }
   ],
   "source": [
    "gplt_glo = go.Scatter(name=\"Barystatic\",\n",
    "                         x=yeardate_str,\n",
    "                         y=gglo)\n",
    "gplt_glo_reg = go.Scatter(name=\"Remove seasonal\",\n",
    "                         x=yeardate_str,\n",
    "                         y=gglo-def_model1)\n",
    "gplt_glo_lin = go.Scatter(name=\"Trend %0.2f +- %0.2f mm/yr\"%(gglo_reg['beta'][1],gglo_reg['se'][1]),\n",
    "                         x=yeardate_str,\n",
    "                         y=def_model2,\n",
    "                      line=dict(width = 2,dash = 'dash'))\n",
    "layout = dict(\n",
    "            title = 'Global Mean Sea Level',\n",
    "            showlegend = True,\n",
    "            calendar = \"gregorian\",\n",
    "            xaxis= dict(title='Year'),\n",
    "            yaxis= dict(title='Global Mean Sea Level (mm)')\n",
    "             )\n",
    "    \n",
    "data=[gplt_glo,gplt_glo_reg,gplt_glo_lin]\n",
    "\n",
    "# py.iplot(dict(data=data,layout=layout),filename='plot_gsl_reg')\n",
    "# plotly.offline.plot(dict(data=data,layout=layout),filename='plot_gsl_reg.html'\\\n",
    "#                          ,include_plotlyjs=False,output_type ='div' )\n",
    "plotly.offline.plot(dict(data=data,layout=layout),filename='./figures/plot_gsl_reg_mean.html')"
   ]
  },
  {
   "cell_type": "code",
   "execution_count": null,
   "metadata": {},
   "outputs": [],
   "source": []
  },
  {
   "cell_type": "code",
   "execution_count": null,
   "metadata": {},
   "outputs": [],
   "source": []
  },
  {
   "cell_type": "code",
   "execution_count": null,
   "metadata": {},
   "outputs": [],
   "source": []
  },
  {
   "cell_type": "code",
   "execution_count": null,
   "metadata": {},
   "outputs": [],
   "source": []
  },
  {
   "cell_type": "code",
   "execution_count": null,
   "metadata": {},
   "outputs": [],
   "source": []
  },
  {
   "cell_type": "code",
   "execution_count": null,
   "metadata": {},
   "outputs": [],
   "source": []
  },
  {
   "cell_type": "code",
   "execution_count": null,
   "metadata": {},
   "outputs": [],
   "source": []
  },
  {
   "cell_type": "code",
   "execution_count": null,
   "metadata": {},
   "outputs": [],
   "source": []
  },
  {
   "cell_type": "code",
   "execution_count": null,
   "metadata": {},
   "outputs": [],
   "source": []
  },
  {
   "cell_type": "code",
   "execution_count": null,
   "metadata": {},
   "outputs": [],
   "source": []
  },
  {
   "cell_type": "code",
   "execution_count": null,
   "metadata": {},
   "outputs": [],
   "source": []
  },
  {
   "cell_type": "code",
   "execution_count": null,
   "metadata": {},
   "outputs": [],
   "source": []
  }
 ],
 "metadata": {
  "kernelspec": {
   "display_name": "Python 2",
   "language": "python",
   "name": "python2"
  },
  "language_info": {
   "codemirror_mode": {
    "name": "ipython",
    "version": 2
   },
   "file_extension": ".py",
   "mimetype": "text/x-python",
   "name": "python",
   "nbconvert_exporter": "python",
   "pygments_lexer": "ipython2",
   "version": "2.7.13"
  }
 },
 "nbformat": 4,
 "nbformat_minor": 2
}

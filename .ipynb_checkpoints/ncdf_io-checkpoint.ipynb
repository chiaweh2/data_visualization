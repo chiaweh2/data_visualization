{
 "cells": [
  {
   "cell_type": "code",
   "execution_count": 1,
   "metadata": {},
   "outputs": [],
   "source": [
    "#!python"
   ]
  },
  {
   "cell_type": "raw",
   "metadata": {},
   "source": []
  },
  {
   "cell_type": "code",
   "execution_count": 2,
   "metadata": {},
   "outputs": [],
   "source": [
    "import netCDF4 as nc4\n",
    "import numpy as np\n",
    "import xarray as xr\n",
    "from collections import OrderedDict"
   ]
  },
  {
   "cell_type": "code",
   "execution_count": 3,
   "metadata": {},
   "outputs": [],
   "source": [
    "fdir='/Users/joedhsu/Research/Rsync/Data_p/GRACE05_CSR/004_175/Antarctica/'\n",
    "fname='lmass.t60.s300.m.deg1.com004_175.IVANS_IJ05_IMBIE.ptcorr.nc'\n",
    "fpath=fdir+fname"
   ]
  },
  {
   "cell_type": "code",
   "execution_count": 4,
   "metadata": {},
   "outputs": [],
   "source": [
    "class ncdf_io :\n",
    "    \"\"\"\n",
    "    The class is derived from the module.netcdf_io\n",
    "    The methods are updated base on the functions \n",
    "    to become more generic. \n",
    "\n",
    "    1) read_ncdf : \n",
    "        use only netCDF4 to output \n",
    "        1. var \n",
    "        2. dim\n",
    "        in the form of dictionaries\n",
    "\n",
    "    2) read_ncdf2xarray :\n",
    "        use the read_ncdf method and transform \n",
    "        the dictionaries to Xarrary.Dataset\n",
    "        for easy application. It outputs\n",
    "        ds : a Xarray.Dataset\n",
    "        \n",
    "    Class's package dependency\n",
    "    1. numpy\n",
    "    2. netCDF4\n",
    "    3. xarray\n",
    "\n",
    "    update history\n",
    "    7/18/18 - create the file include read_ncdf and read_ncdf2xarray\n",
    "    7/19/18 - create the class ncdf_io and two methods\n",
    "\n",
    "    \"\"\"\n",
    "    \n",
    "    def __init__ (self,filename):\n",
    "        \"\"\"\n",
    "        Parameters:\n",
    "            filename: string\n",
    "                file name and path to the file      \n",
    "        \"\"\"\n",
    "\n",
    "        self.path=filename\n",
    "        \n",
    "    def read_ncdf(self,var=[],dimorder=[],ncformat='NETCDF4_CLASSIC'):\n",
    "        \"\"\"\n",
    "        The method output variable in the form of dictionary\n",
    "\n",
    "        Returns:\n",
    "            dim_dict : \n",
    "                contain all dimensions in the ncfile\n",
    "            var_dict : \n",
    "                contain all variables (or listed variable) in the ncfile\n",
    "            \n",
    "        kwargs:\n",
    "            var : list of strings, optional\n",
    "                list of the variable one want to output\n",
    "                if the list is not provided all variables\n",
    "                will be output.\n",
    "\n",
    "            dimorder: list of strings, optional\n",
    "                list of the dimension one want the data \n",
    "                to be ordered ex:['lon','lat','time'] \n",
    "                will make lon be the first dim, lat be \n",
    "                the second, and time be the thrid dim.\n",
    "\n",
    "            ncformat: string, optional\n",
    "                put the netcdf file format. i.e. NETCDF4_CLASSIC,\n",
    "                NETCDF3_CLASSIC, NETCDF4, NETCDF3, etc...\n",
    "                more format can be found \n",
    "                http://unidata.github.io/netcdf4-python/\n",
    "\n",
    "        \"\"\"\n",
    "\n",
    "        # open the netcdf file\n",
    "        rootgrp = nc4.Dataset(self.path,mode='r',format=ncformat) \n",
    "\n",
    "        # dump variable name and dimension name\n",
    "        dump_var=rootgrp.variables\n",
    "        varname = [v[0] for v in dump_var.items()]\n",
    "        dump_dim=rootgrp.dimensions\n",
    "        dimname = [v[0] for v in dump_dim.items()]\n",
    "        \n",
    "        # reorder the var if dimorder is given\n",
    "        ndim=len(dimname)\n",
    "        indexorder=[]\n",
    "        if dimorder != []:\n",
    "            print '\\n'\n",
    "            print \"!!!!! Variable dimension is reodered !!!!!\"\n",
    "            print \" Original order       :\", dimname\n",
    "            print \" Base on user setting :\", dimorder\n",
    "            for i in range(len(dimorder)):\n",
    "                for j in range(len(dimname)):\n",
    "                    if dimorder[i] in dimname[j]:\n",
    "                        indexorder.append(j)\n",
    "        else :\n",
    "            indexorder=range(ndim)\n",
    "        \n",
    "        # read in dimensions \n",
    "        print '\\n'\n",
    "        print '#   ncfile dimensions '\n",
    "        print '----------------------------------'\n",
    "        dim_dict = OrderedDict() # to keep the order of the dimension listed in the dict as set\n",
    "        for i in indexorder:\n",
    "            dim_dict[dimname[i]]=np.array(rootgrp.variables[dimname[i]][:])\n",
    "            print dimname[i],len(dim_dict[dimname[i]])\n",
    "\n",
    "        # read in variables\n",
    "        print '\\n'\n",
    "        print '#   ncfile variables '\n",
    "        print '----------------------------------'\n",
    "        nvar=len(varname)\n",
    "        var_dict={}\n",
    "\n",
    "        # loop through all variable and dim\n",
    "        for i in range(nvar):\n",
    "\n",
    "            # if the varname is not listed all variable will be output\n",
    "            if var == [] :\n",
    "                # exclude dimension \n",
    "                if varname[i] not in dimname :\n",
    "                    var_dict[varname[i]]=np.array(rootgrp.variables[varname[i]][:])\n",
    "                    var_dict[varname[i]]=np.transpose(var_dict[varname[i]],indexorder)\n",
    "                    print varname[i],var_dict[varname[i]].shape\n",
    "                    print \"    dim:\",[dimname[ind] for ind in indexorder]\n",
    "\n",
    "            # output varname listed in var\n",
    "            else :\n",
    "                # exclude dimension and only include varname in the list\n",
    "                if varname[i] not in dimname and varname[i] in var:\n",
    "                    var_dict[varname[i]]=np.array(rootgrp.variables[varname[i]][:])\n",
    "                    var_dict[varname[i]]=np.transpose(var_dict[varname[i]],indexorder)\n",
    "                    print varname[i],var_dict[varname[i]].shape\n",
    "                    print \"    dim:\",[dimname[ind] for ind in indexorder]\n",
    "\n",
    "        return dim_dict, var_dict\n",
    "\n",
    "    \n",
    "    \n",
    "    def read_ncdf2xarray(self,var=[],dimorder=[],ncformat='NETCDF4_CLASSIC'):\n",
    "        \"\"\"\n",
    "        The method output variable in the form of dictionary\n",
    "\n",
    "        Parameters:\n",
    "            filename: string\n",
    "                file name and path to the file\n",
    "\n",
    "        Returns:\n",
    "            dim_dict : \n",
    "                contain all dimensions in the ncfile\n",
    "            var_dict : \n",
    "                contain all variables (or listed variable) in the ncfile\n",
    "            \n",
    "        kwargs:\n",
    "            var : list of strings, optional\n",
    "                list of the variable one want to output\n",
    "                if the list is not provided all variables\n",
    "                will be output.\n",
    "\n",
    "            dimorder: list of strings, optional\n",
    "                list of the dimension one want the data \n",
    "                to be ordered ex:['lon','lat','time'] \n",
    "                will make lon be the first dim, lat be \n",
    "                the second, and time be the thrid dim.\n",
    "\n",
    "            ncformat: string, optional\n",
    "                put the netcdf file format. i.e. NETCDF4_CLASSIC,\n",
    "                NETCDF3_CLASSIC, NETCDF4, NETCDF3, etc...\n",
    "                more format can be found \n",
    "                http://unidata.github.io/netcdf4-python/\n",
    "\n",
    "        \"\"\"\n",
    "\n",
    "        dim_dict, var_dict = self.read_ncdf(var=var,dimorder=dimorder,ncformat=ncformat)\n",
    "        nvar=len(var_dict.items())\n",
    "        ndim=len(dim_dict.items())\n",
    "\n",
    "        # dump variable name and dimension name\n",
    "        varname = [v[0] for v in var_dict.items()]\n",
    "        dimname = [v[0] for v in dim_dict.items()]\n",
    "        \n",
    "        # store each variable as a var\n",
    "        ds=xr.DataArray(var_dict[varname[0]], \n",
    "                        coords=dim_dict,dims=dimname).to_dataset(name=varname[0])\n",
    "        \n",
    "        for i in np.arange(nvar-1)+1:\n",
    "            ds[varname[i]]=var_dict[varname[i]]\n",
    "        return ds\n",
    "\n",
    "\n"
   ]
  },
  {
   "cell_type": "code",
   "execution_count": 5,
   "metadata": {},
   "outputs": [
    {
     "name": "stdout",
     "output_type": "stream",
     "text": [
      "\n",
      "\n",
      "!!!!! Variable dimension is reodered !!!!!\n",
      " Original order       : [u'time', u'lat', u'lon']\n",
      " Base on user setting : ['lat', 'lon', 'time']\n",
      "\n",
      "\n",
      "#   ncfile dimensions \n",
      "----------------------------------\n",
      "lat 181\n",
      "lon 360\n",
      "time 154\n",
      "\n",
      "\n",
      "#   ncfile variables \n",
      "----------------------------------\n",
      "z (181, 360, 154)\n",
      "    dim: [u'lat', u'lon', u'time']\n"
     ]
    }
   ],
   "source": [
    "data=ncdf_io(fpath)\n",
    "dim,var=data.read_ncdf(var=['z'],dimorder=['lat','lon','time'])"
   ]
  },
  {
   "cell_type": "code",
   "execution_count": 63,
   "metadata": {},
   "outputs": [
    {
     "name": "stdout",
     "output_type": "stream",
     "text": [
      "\n",
      "\n",
      "!!!!! Variable dimension is reodered !!!!!\n",
      " Original order       : [u'time', u'lat', u'lon']\n",
      " Base on user setting : ['time', 'lat', 'lon']\n",
      "\n",
      "\n",
      "#   ncfile dimensions \n",
      "----------------------------------\n",
      "time 154\n",
      "lat 181\n",
      "lon 360\n",
      "\n",
      "\n",
      "#   ncfile variables \n",
      "----------------------------------\n",
      "z (154, 181, 360)\n",
      "    dim: [u'time', u'lat', u'lon']\n"
     ]
    }
   ],
   "source": [
    "data=ncdf_io(fpath)\n",
    "ds=data.read_ncdf2xarray(var=['z'], dimorder=['time','lat','lon'], ncformat='NETCDF4_CLASSIC')"
   ]
  },
  {
   "cell_type": "markdown",
   "metadata": {},
   "source": [
    "***\n",
    "*** Notice the output dimensions order*** is alphabetical not in the real order of the dimension "
   ]
  },
  {
   "cell_type": "code",
   "execution_count": 64,
   "metadata": {},
   "outputs": [
    {
     "data": {
      "text/plain": [
       "<xarray.Dataset>\n",
       "Dimensions:  (lat: 181, lon: 360, time: 154)\n",
       "Coordinates:\n",
       "  * time     (time) float64 3.0 4.0 7.0 8.0 9.0 10.0 11.0 12.0 13.0 14.0 ...\n",
       "  * lat      (lat) float32 90.0 89.0 88.0 87.0 86.0 85.0 84.0 83.0 82.0 81.0 ...\n",
       "  * lon      (lon) float32 0.0 1.0 2.0 3.0 4.0 5.0 6.0 7.0 8.0 9.0 10.0 11.0 ...\n",
       "Data variables:\n",
       "    z        (time, lat, lon) float64 -0.0 -0.0 -0.0 -0.0 -0.0 -0.0 -0.0 ..."
      ]
     },
     "execution_count": 64,
     "metadata": {},
     "output_type": "execute_result"
    }
   ],
   "source": [
    "ds"
   ]
  },
  {
   "cell_type": "markdown",
   "metadata": {},
   "source": [
    "***\n",
    "Two different expression of the selecting the DataArray\n",
    "* use the sel method\n",
    "* use the dictionary expression in the bracket"
   ]
  },
  {
   "cell_type": "code",
   "execution_count": 65,
   "metadata": {},
   "outputs": [],
   "source": [
    "z=ds['z'].sel(time=3)\n",
    "zz=ds['z'][dict(lon=range(10))]"
   ]
  },
  {
   "cell_type": "code",
   "execution_count": 79,
   "metadata": {},
   "outputs": [
    {
     "name": "stdout",
     "output_type": "stream",
     "text": [
      "(181, 360)\n",
      "(181, 360)\n",
      "(181, 360)\n"
     ]
    },
    {
     "data": {
      "text/plain": [
       "<matplotlib.contour.QuadContourSet at 0x11a566850>"
      ]
     },
     "execution_count": 79,
     "metadata": {},
     "output_type": "execute_result"
    },
    {
     "data": {
      "image/png": "[encoded data removed]",
      "text/plain": [
       "<matplotlib.figure.Figure at 0x119284990>"
      ]
     },
     "metadata": {},
     "output_type": "display_data"
    }
   ],
   "source": [
    "lon1=ds['lon']\n",
    "lat1=ds['lat']\n",
    "lons1, lats1 = np.meshgrid(lon1, lat1)\n",
    "print ds['z'].sel(time=4).shape\n",
    "print lons.shape\n",
    "print lats.shape\n",
    "plt.contourf(lons1,lats1,ds['z'].sel(time=4),range(-10,10))"
   ]
  },
  {
   "cell_type": "markdown",
   "metadata": {},
   "source": [
    "***\n",
    "# Notice the dimension need to be [Lat, Lon] \n",
    "the xarray tho recognize the dimension and variable but the plotting \n",
    "will not recognize the variable arrange in [lon, lat]"
   ]
  },
  {
   "cell_type": "code",
   "execution_count": 78,
   "metadata": {},
   "outputs": [
    {
     "data": {
      "text/plain": [
       "<cartopy.mpl.feature_artist.FeatureArtist at 0x11a102e50>"
      ]
     },
     "execution_count": 78,
     "metadata": {},
     "output_type": "execute_result"
    },
    {
     "data": {
      "image/png": "[encoded data removed]",
      "text/plain": [
       "<matplotlib.figure.Figure at 0x1191c1bd0>"
      ]
     },
     "metadata": {},
     "output_type": "display_data"
    }
   ],
   "source": [
    "import cartopy.crs as ccrs\n",
    "import matplotlib.pyplot as plt\n",
    "ax = plt.axes(projection=ccrs.Robinson())\n",
    "ds['z'].sel(time=4).plot.contourf(ax=ax, transform=ccrs.PlateCarree())\n",
    "ax.set_global()\n",
    "ax.coastlines()"
   ]
  },
  {
   "cell_type": "code",
   "execution_count": 69,
   "metadata": {},
   "outputs": [
    {
     "name": "stdout",
     "output_type": "stream",
     "text": [
      "[[-0.         -0.         -0.         ... -0.         -0.\n",
      "  -0.        ]\n",
      " [-0.         -0.         -0.         ... -0.         -0.\n",
      "  -0.        ]\n",
      " [-0.         -0.         -0.         ... -0.         -0.\n",
      "  -0.        ]\n",
      " ...\n",
      " [-2.21054686 -2.22841242 -2.2456663  ... -2.15385207 -2.17320711\n",
      "  -2.19212561]\n",
      " [-1.97546358 -1.97888614 -1.98224627 ... -1.96489917 -1.96846208\n",
      "  -1.97198625]\n",
      " [-1.82664278 -1.82664278 -1.82664278 ... -1.82664278 -1.82664278\n",
      "  -1.82664278]]\n",
      "(181, 360)\n",
      "(181, 360)\n"
     ]
    }
   ],
   "source": [
    "\n",
    "lon=dim['lon']\n",
    "lat=dim['lat']\n",
    "lons, lats = np.meshgrid(lon, lat)\n",
    "print var['z'][:,:,0]\n",
    "print lons.shape\n",
    "print lats.shape\n",
    "\n",
    "# plt.contourf(lons,lats,var['z'][:,:,0],range(-10,10))\n",
    "# fig = plt.figure(figsize=(10, 5))\n",
    "# ax = fig.add_subplot(1, 1, 1, projection=ccrs.Robinson())\n",
    "\n",
    "# # make the map global rather than have it zoom in to\n",
    "# # the extents of any plotted data\n",
    "\n",
    "# ax.contourf(lons,lats,var['z'][:,:,0], transform=ccrs.Robinson(),cmap='nipy_spectral')\n",
    "# ax.set_global()\n",
    "# ax.coastlines()"
   ]
  },
  {
   "cell_type": "code",
   "execution_count": 73,
   "metadata": {},
   "outputs": [
    {
     "data": {
      "image/png": "[encoded data removed]",
      "text/plain": [
       "<matplotlib.figure.Figure at 0x118e9f190>"
      ]
     },
     "metadata": {},
     "output_type": "display_data"
    }
   ],
   "source": [
    "import cartopy.crs as ccrs\n",
    "ax = plt.axes(projection=ccrs.Orthographic(-180, -90))\n",
    "ds['z'].sel(time=3).plot.contourf(ax=ax, transform=ccrs.PlateCarree());\n",
    "ax.set_global(); ax.coastlines();"
   ]
  },
  {
   "cell_type": "code",
   "execution_count": null,
   "metadata": {},
   "outputs": [],
   "source": [
    "\n"
   ]
  },
  {
   "cell_type": "code",
   "execution_count": null,
   "metadata": {},
   "outputs": [],
   "source": []
  },
  {
   "cell_type": "code",
   "execution_count": null,
   "metadata": {},
   "outputs": [],
   "source": []
  }
 ],
 "metadata": {
  "kernelspec": {
   "display_name": "Python 2",
   "language": "python",
   "name": "python2"
  },
  "language_info": {
   "codemirror_mode": {
    "name": "ipython",
    "version": 2
   },
   "file_extension": ".py",
   "mimetype": "text/x-python",
   "name": "python",
   "nbconvert_exporter": "python",
   "pygments_lexer": "ipython2",
   "version": "2.7.13"
  }
 },
 "nbformat": 4,
 "nbformat_minor": 2
}

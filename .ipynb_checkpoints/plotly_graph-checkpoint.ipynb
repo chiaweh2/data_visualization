{
 "cells": [
  {
   "cell_type": "code",
   "execution_count": 1,
   "metadata": {},
   "outputs": [
    {
     "data": {
      "text/html": [
       "<script>requirejs.config({paths: { 'plotly': ['https://cdn.plot.ly/plotly-latest.min']},});if(!window.Plotly) {{require(['plotly'],function(plotly) {window.Plotly=plotly;});}}</script>"
      ],
      "text/vnd.plotly.v1+html": [
       "<script>requirejs.config({paths: { 'plotly': ['https://cdn.plot.ly/plotly-latest.min']},});if(!window.Plotly) {{require(['plotly'],function(plotly) {window.Plotly=plotly;});}}</script>"
      ]
     },
     "metadata": {},
     "output_type": "display_data"
    }
   ],
   "source": [
    "#!python\n",
    "\n",
    "from ncdf_io import *\n",
    "import plotly\n",
    "import plotly.plotly as py\n",
    "import plotly.graph_objs as go\n",
    "import plotly.offline as offline\n",
    "\n",
    "\n",
    "offline.init_notebook_mode(connected=True)\n",
    "# plotly.tools.set_credentials_file(username='chiaweh2', api_key='Hls8zO0QE2byFOnaOXM5')"
   ]
  },
  {
   "cell_type": "markdown",
   "metadata": {},
   "source": [
    "***\n",
    "# Testing the map plot\n"
   ]
  },
  {
   "cell_type": "code",
   "execution_count": 2,
   "metadata": {},
   "outputs": [],
   "source": [
    "fdir='/Users/joedhsu/Research/Rsync/Data_p/GRACE05_CSR/004_175/Antarctica/'\n",
    "fname='lmass.t60.s300.m.deg1.com004_175.IVANS_IJ05_IMBIE.ptcorr.nc'\n",
    "fpath=fdir+fname"
   ]
  },
  {
   "cell_type": "code",
   "execution_count": 3,
   "metadata": {},
   "outputs": [
    {
     "name": "stdout",
     "output_type": "stream",
     "text": [
      "\n",
      "\n",
      "!!!!! Variable dimension is reodered !!!!!\n",
      " Original order       : [u'time', u'lat', u'lon']\n",
      " Base on user setting : ['time', 'lat', 'lon']\n",
      "\n",
      "\n",
      "#   ncfile dimensions \n",
      "----------------------------------\n",
      "time 154\n",
      "lat 181\n",
      "lon 360\n",
      "\n",
      "\n",
      "#   ncfile variables \n",
      "----------------------------------\n",
      "z (154, 181, 360)\n",
      "    dim: [u'time', u'lat', u'lon']\n"
     ]
    }
   ],
   "source": [
    "ncfile=ncdf_io(fpath)\n",
    "ds=ncfile.read_ncdf2xarray(var=[], dimorder=['time','lat','lon'], ncformat='NETCDF4_CLASSIC')"
   ]
  },
  {
   "cell_type": "code",
   "execution_count": 4,
   "metadata": {},
   "outputs": [],
   "source": [
    "ds_stack=ds['z'].isel(time=0).stack(dim1=('lat','lon'))"
   ]
  },
  {
   "cell_type": "code",
   "execution_count": 5,
   "metadata": {},
   "outputs": [
    {
     "data": {
      "text/html": [
       "<iframe id=\"igraph\" scrolling=\"no\" style=\"border:none;\" seamless=\"seamless\" src=\"https://plot.ly/~chiaweh2/6.embed\" height=\"525px\" width=\"100%\"></iframe>"
      ],
      "text/plain": [
       "<plotly.tools.PlotlyDisplay object>"
      ]
     },
     "execution_count": 5,
     "metadata": {},
     "output_type": "execute_result"
    }
   ],
   "source": [
    "ds_stack=ds['z'].isel(time=0).stack(dim1=('lat','lon'))\n",
    "ind=np.where(np.abs(np.array(ds_stack))>1E-6)[0]\n",
    "var=np.array(ds_stack[ind])\n",
    "varstr=map(lambda x: '%0.2f cmH2O'%(x), var)\n",
    "x=np.array(ds_stack['lon'][ind])\n",
    "y=np.array(ds_stack['lat'][ind])\n",
    "\n",
    "\n",
    "scl = [-100,\"rgb(150,0,90)\"],[-80,\"rgb(0, 0, 200)\"],[-60,\"rgb(0, 25, 255)\"],\\\n",
    "[-40,\"rgb(0, 152, 255)\"],[0,\"rgb(44, 255, 150)\"],[40,\"rgb(151, 255, 0)\"],\\\n",
    "[60,\"rgb(255, 234, 0)\"],[80,\"rgb(255, 111, 0)\"],[100,\"rgb(255, 0, 0)\"]\n",
    "\n",
    "ais_lmass1 = [dict(\n",
    "        type = 'scattergeo',\n",
    "        name='AIS 2002',\n",
    "        lon = x,\n",
    "        lat = y,\n",
    "        text = varstr,\n",
    "        marker = dict(\n",
    "        color = var,\n",
    "        colorscale = scl,\n",
    "        reversescale = False,\n",
    "        opacity = 0.85,\n",
    "        size = 5,\n",
    "        cmin=-100,\n",
    "        cmax=100,            \n",
    "        colorbar = dict(\n",
    "            thickness = 10,\n",
    "            titleside = \"right\",\n",
    "            outlinecolor = \"rgba(68, 68, 68, 0)\",\n",
    "            ticks = \"outside\",\n",
    "            ticklen = 3,\n",
    "            tickmode = \"array\",\n",
    "#             tickvals = np.arange(13)*20.-100,\n",
    "#             ticktest = np.arange(13)*20.-100,\n",
    "            showticksuffix = \"last\",\n",
    "            ticksuffix = \"cmH2O\",\n",
    "            x=0.85,\n",
    "            dtick = 10)\n",
    "          ))]\n",
    "\n",
    "ds_stack=ds['z'].isel(time=-1).stack(dim1=('lat','lon'))\n",
    "ind=np.where(np.abs(np.array(ds_stack))>1E-6)[0]\n",
    "var=np.array(ds_stack[ind])\n",
    "varstr=map(lambda x: '%0.2f cmH2O'%(x), var)\n",
    "x=np.array(ds_stack['lon'][ind])\n",
    "y=np.array(ds_stack['lat'][ind])\n",
    "\n",
    "ais_lmass2 = [dict(\n",
    "        type = 'scattergeo',\n",
    "        name='AIS 2014',\n",
    "        lon = x,\n",
    "        lat = y,\n",
    "        text = varstr,\n",
    "        marker = dict(\n",
    "        color = var,\n",
    "        colorscale = scl,\n",
    "        reversescale = False,\n",
    "        opacity = 0.85,\n",
    "        size = 5,\n",
    "        cmin=-100,\n",
    "        cmax=100,\n",
    "        colorbar = dict(\n",
    "            thickness = 10,\n",
    "            titleside = \"right\",\n",
    "            outlinecolor = \"rgba(68, 68, 68, 0)\",\n",
    "            ticks = \"outside\",\n",
    "            ticklen = 3,\n",
    "            tickmode = \"array\",\n",
    "#             tickvals = np.arange(13)*20.-100,\n",
    "#             ticktest = np.arange(13)*20.-100,\n",
    "            showticksuffix = \"last\",\n",
    "            ticksuffix = \"cmH2O\",\n",
    "            x=0.85,\n",
    "            dtick = 10)\n",
    "          ))]\n",
    "\n",
    "layout = dict(\n",
    "        title = 'AIS mass anomaly with 2002-2014 mean removed',\n",
    "        showlegend = True,\n",
    "        geo = dict(\n",
    "            scope='world',\n",
    "            projection=dict( \n",
    "                type='stereographic' ,\n",
    "                scale=1,\n",
    "                rotation = dict(\n",
    "                lat = -90)\n",
    "            ),\n",
    "            showocean = True,\n",
    "            oceancolor = 'rgb(217, 217, 217)',\n",
    "            subunitwidth=1,\n",
    "            countrywidth=1,\n",
    "            subunitcolor=\"rgb(255, 255, 255)\",\n",
    "            countrycolor=\"rgb(255, 255, 255)\"\n",
    "        ),\n",
    "    )\n",
    "\n",
    "fig = dict( data=ais_lmass1+ais_lmass2, layout=layout )\n",
    "\n",
    "#--- using the plotly server to plot the map\n",
    "py.iplot( fig, validate=False, filename='AIS_map' )\n",
    "#--- offline saving mode (to html file)\n",
    "# offline.plot(fig, validate=False, filename='AIS_map.html')\n"
   ]
  },
  {
   "cell_type": "code",
   "execution_count": null,
   "metadata": {},
   "outputs": [],
   "source": []
  },
  {
   "cell_type": "code",
   "execution_count": null,
   "metadata": {},
   "outputs": [],
   "source": []
  },
  {
   "cell_type": "code",
   "execution_count": null,
   "metadata": {},
   "outputs": [],
   "source": []
  },
  {
   "cell_type": "code",
   "execution_count": null,
   "metadata": {},
   "outputs": [],
   "source": []
  },
  {
   "cell_type": "code",
   "execution_count": null,
   "metadata": {},
   "outputs": [],
   "source": []
  },
  {
   "cell_type": "code",
   "execution_count": null,
   "metadata": {},
   "outputs": [],
   "source": []
  },
  {
   "cell_type": "markdown",
   "metadata": {},
   "source": [
    "***\n",
    "# Testing the time series plot\n"
   ]
  },
  {
   "cell_type": "code",
   "execution_count": 6,
   "metadata": {},
   "outputs": [],
   "source": [
    "aisfile='/Users/joedhsu/Research/Rsync/Data_t/GRACE05_CSR/004_154/Antarctica/slf.t60.s300.m.deg1.scaMB_decom_multi.IVANS_IJ05_IMBIE.ptcorr.rf.200204_201410.regress.regts.agmask.-66_66.nc'\n",
    "gisfile='/Users/joedhsu/Research/Rsync/Data_t/GRACE05_CSR/004_154/Greenland/slf.t60.s300.m.deg1.scaMB_decom_multi.GERUO_ICE5_COMP.ptcorr.rf.200204_201410.regress.regts.agmask.-66_66.nc'\n",
    "lwmfile='/Users/joedhsu/Research/Rsync/Data_t/GRACE05_CSR/004_154/Landwater/slf.f.t60.s300.m.deg1.scaCLM4.5bgc_gict_hydt_ind_decom_multi.GERUO_ICE5_COMP.ptcorr.rf.200204_201410.regress.regts.agmask.-66_66.nc'\n",
    "aodfile='/Users/joedhsu/Research/Rsync/Data_t/GRACE05_CSR/004_154/GAC/slf.t100.s0.m.deg1.rf.200204_201410.regress.regts.agmask.-66_66.nc'\n",
    "\n",
    "ais=ncdf_io(aisfile)\n",
    "gis=ncdf_io(gisfile)\n",
    "lwm=ncdf_io(lwmfile)\n",
    "aod=ncdf_io(aodfile)"
   ]
  },
  {
   "cell_type": "code",
   "execution_count": 7,
   "metadata": {},
   "outputs": [
    {
     "name": "stdout",
     "output_type": "stream",
     "text": [
      "\n",
      "\n",
      "#   ncfile dimensions \n",
      "----------------------------------\n",
      "time 139\n",
      "\n",
      "\n",
      "#   ncfile variables \n",
      "----------------------------------\n",
      "anoSLF_Pac (139,)\n",
      "    dim: [u'time']\n",
      "anoSLF_Atl (139,)\n",
      "    dim: [u'time']\n",
      "anoSLF_Ind (139,)\n",
      "    dim: [u'time']\n",
      "anoSLF_SumPacAtlInd (139,)\n",
      "    dim: [u'time']\n",
      "anoSLF_global (139,)\n",
      "    dim: [u'time']\n",
      "yeardate (139,)\n",
      "    dim: [u'time']\n",
      "\n",
      "\n",
      "#   ncfile dimensions \n",
      "----------------------------------\n",
      "time 139\n",
      "\n",
      "\n",
      "#   ncfile variables \n",
      "----------------------------------\n",
      "anoSLF_Pac (139,)\n",
      "    dim: [u'time']\n",
      "anoSLF_Atl (139,)\n",
      "    dim: [u'time']\n",
      "anoSLF_Ind (139,)\n",
      "    dim: [u'time']\n",
      "anoSLF_SumPacAtlInd (139,)\n",
      "    dim: [u'time']\n",
      "anoSLF_global (139,)\n",
      "    dim: [u'time']\n",
      "yeardate (139,)\n",
      "    dim: [u'time']\n",
      "\n",
      "\n",
      "#   ncfile dimensions \n",
      "----------------------------------\n",
      "time 139\n",
      "\n",
      "\n",
      "#   ncfile variables \n",
      "----------------------------------\n",
      "anoSLF_Pac (139,)\n",
      "    dim: [u'time']\n",
      "anoSLF_Atl (139,)\n",
      "    dim: [u'time']\n",
      "anoSLF_Ind (139,)\n",
      "    dim: [u'time']\n",
      "anoSLF_SumPacAtlInd (139,)\n",
      "    dim: [u'time']\n",
      "anoSLF_global (139,)\n",
      "    dim: [u'time']\n",
      "yeardate (139,)\n",
      "    dim: [u'time']\n",
      "\n",
      "\n",
      "#   ncfile dimensions \n",
      "----------------------------------\n",
      "time 139\n",
      "\n",
      "\n",
      "#   ncfile variables \n",
      "----------------------------------\n",
      "anoSLF_Pac (139,)\n",
      "    dim: [u'time']\n",
      "anoSLF_Atl (139,)\n",
      "    dim: [u'time']\n",
      "anoSLF_Ind (139,)\n",
      "    dim: [u'time']\n",
      "anoSLF_SumPacAtlInd (139,)\n",
      "    dim: [u'time']\n",
      "anoSLF_global (139,)\n",
      "    dim: [u'time']\n",
      "yeardate (139,)\n",
      "    dim: [u'time']\n"
     ]
    }
   ],
   "source": [
    "ds_ais=ais.read_ncdf2xarray()\n",
    "ds_gis=gis.read_ncdf2xarray()\n",
    "ds_lwm=lwm.read_ncdf2xarray()\n",
    "ds_aod=aod.read_ncdf2xarray()"
   ]
  },
  {
   "cell_type": "markdown",
   "metadata": {},
   "source": [
    "# Offline plotting \n",
    "### output in notebook"
   ]
  },
  {
   "cell_type": "code",
   "execution_count": 8,
   "metadata": {},
   "outputs": [],
   "source": [
    "%matplotlib inline"
   ]
  },
  {
   "cell_type": "code",
   "execution_count": 9,
   "metadata": {},
   "outputs": [],
   "source": [
    "def year2year_mon(yeardate):\n",
    "    mon=yeardate-np.floor(yeardate)\n",
    "    year=yeardate-mon\n",
    "    mon1year=1/24.+1./12.*np.arange(12.)\n",
    "    month=[]\n",
    "    year_month_str=[]\n",
    "    i=0\n",
    "    for m in mon:\n",
    "        mon_ind=np.where(np.abs(mon1year-m)<1E-8)[0]\n",
    "        month.append(mon_ind+1)\n",
    "        year_month_str.append(\"%0.4i-%0.2i\"%(year[i],month[i]))\n",
    "        i+=1\n",
    "    \n",
    "    return {'year':year,'month': month, 'string':year_month_str}\n",
    "    "
   ]
  },
  {
   "cell_type": "code",
   "execution_count": null,
   "metadata": {},
   "outputs": [],
   "source": []
  },
  {
   "cell_type": "code",
   "execution_count": 20,
   "metadata": {},
   "outputs": [
    {
     "data": {
      "text/html": [
       "<script>requirejs.config({paths: { 'plotly': ['https://cdn.plot.ly/plotly-latest.min']},});if(!window.Plotly) {{require(['plotly'],function(plotly) {window.Plotly=plotly;});}}</script>"
      ],
      "text/vnd.plotly.v1+html": [
       "<script>requirejs.config({paths: { 'plotly': ['https://cdn.plot.ly/plotly-latest.min']},});if(!window.Plotly) {{require(['plotly'],function(plotly) {window.Plotly=plotly;});}}</script>"
      ]
     },
     "metadata": {},
     "output_type": "display_data"
    },
    {
     "ename": "TypeError",
     "evalue": "'module' object is not callable",
     "output_type": "error",
     "traceback": [
      "\u001b[0;31m---------------------------------------------------------------------------\u001b[0m",
      "\u001b[0;31mTypeError\u001b[0m                                 Traceback (most recent call last)",
      "\u001b[0;32m<ipython-input-20-fd6061313cf8>\u001b[0m in \u001b[0;36m<module>\u001b[0;34m()\u001b[0m\n\u001b[1;32m      6\u001b[0m \u001b[0;34m\u001b[0m\u001b[0m\n\u001b[1;32m      7\u001b[0m \u001b[0myeardate\u001b[0m\u001b[0;34m=\u001b[0m\u001b[0mnp\u001b[0m\u001b[0;34m.\u001b[0m\u001b[0marray\u001b[0m\u001b[0;34m(\u001b[0m\u001b[0mds_ais\u001b[0m\u001b[0;34m[\u001b[0m\u001b[0;34m'yeardate'\u001b[0m\u001b[0;34m]\u001b[0m\u001b[0;34m)\u001b[0m\u001b[0;34m\u001b[0m\u001b[0m\n\u001b[0;32m----> 8\u001b[0;31m \u001b[0mdict1\u001b[0m\u001b[0;34m=\u001b[0m\u001b[0mtime_convert\u001b[0m\u001b[0;34m(\u001b[0m\u001b[0myeardate\u001b[0m\u001b[0;34m)\u001b[0m\u001b[0;34m.\u001b[0m\u001b[0myear2year_mon\u001b[0m\u001b[0;34m(\u001b[0m\u001b[0;34m)\u001b[0m\u001b[0;34m\u001b[0m\u001b[0m\n\u001b[0m\u001b[1;32m      9\u001b[0m \u001b[0;31m# dict1=year2year_mon(yeardate)\u001b[0m\u001b[0;34m\u001b[0m\u001b[0;34m\u001b[0m\u001b[0m\n\u001b[1;32m     10\u001b[0m \u001b[0myeardate_str\u001b[0m\u001b[0;34m=\u001b[0m\u001b[0mdict1\u001b[0m\u001b[0;34m[\u001b[0m\u001b[0;34m'string'\u001b[0m\u001b[0;34m]\u001b[0m\u001b[0;34m\u001b[0m\u001b[0m\n",
      "\u001b[0;31mTypeError\u001b[0m: 'module' object is not callable"
     ]
    }
   ],
   "source": [
    "import plotly\n",
    "import plotly.graph_objs as go\n",
    "import time_convert\n",
    "\n",
    "plotly.offline.init_notebook_mode(connected=True)\n",
    "\n",
    "yeardate=np.array(ds_ais['yeardate'])\n",
    "dict1=time_convert(yeardate).year2year_mon()\n",
    "# dict1=year2year_mon(yeardate)\n",
    "yeardate_str=dict1['string']\n",
    "gais=np.round(np.array(ds_ais['anoSLF_global'])-np.array(ds_ais['anoSLF_global'])[0],decimals=1)\n",
    "ggis=np.round(np.array(ds_gis['anoSLF_global'])-np.array(ds_gis['anoSLF_global'])[0],decimals=1)\n",
    "glwm=np.round(np.array(ds_lwm['anoSLF_global'])-np.array(ds_lwm['anoSLF_global'])[0],decimals=1)\n",
    "gaod=np.round(np.array(ds_aod['anoSLF_global'])-np.array(ds_aod['anoSLF_global'])[0],decimals=1)\n",
    "\n",
    "gplt_ais = go.Scatter(name='Antarctic ice sheet',\n",
    "                         x=yeardate_str,\n",
    "                         y=gais)\n",
    "gplt_gis = go.Scatter(name='Greenland ice sheet',\n",
    "                         x=yeardate_str,\n",
    "                         y=ggis)\n",
    "gplt_lwm = go.Scatter(name=\"Land water storage\",\n",
    "                         x=yeardate_str,\n",
    "                         y=glwm)\n",
    "gplt_aod = go.Scatter(name=\"Atmosphere water vapor\",\n",
    "                         x=yeardate_str,\n",
    "                         y=gaod)\n",
    "layout = dict(\n",
    "            title = 'Global Mean Sea Level',\n",
    "            showlegend = True,\n",
    "            calendar = \"gregorian\",\n",
    "            xaxis= dict(title='Year'),\n",
    "            yaxis= dict(title='Global Mean Sea Level (cm)')\n",
    "             )\n",
    "    \n",
    "data=[gplt_ais,gplt_gis,gplt_lwm,gplt_aod]\n",
    "\n",
    "# py.iplot(dict(data=data,layout=layout),filename='plot_gsl')\n",
    "plotly.offline.plot(dict(data=data,layout=layout),filename='plot_gsl.html',include_plotlyjs=False,output_type ='div' )\n",
    "# plotly.offline.plot(dict(data=data,layout=layout),filename='plot_gsl.html')"
   ]
  },
  {
   "cell_type": "code",
   "execution_count": 11,
   "metadata": {},
   "outputs": [
    {
     "data": {
      "text/plain": [
       "<xarray.Dataset>\n",
       "Dimensions:              (anoSLF_Atl: 139, anoSLF_Ind: 139, anoSLF_Pac: 139, anoSLF_SumPacAtlInd: 139, time: 139, yeardate: 139)\n",
       "Coordinates:\n",
       "  * time                 (time) float64 4.0 5.0 8.0 9.0 10.0 11.0 12.0 13.0 ...\n",
       "  * anoSLF_Ind           (anoSLF_Ind) float64 -2.25 -2.429 -1.547 -1.996 ...\n",
       "  * anoSLF_Atl           (anoSLF_Atl) float64 -2.011 -2.053 -1.087 -1.589 ...\n",
       "  * anoSLF_Pac           (anoSLF_Pac) float64 -1.696 -1.783 -0.6979 -1.265 ...\n",
       "  * yeardate             (yeardate) float64 2.002e+03 2.002e+03 2.003e+03 ...\n",
       "  * anoSLF_SumPacAtlInd  (anoSLF_SumPacAtlInd) float64 -1.901 -1.998 -0.989 ...\n",
       "Data variables:\n",
       "    anoSLF_global        (time) float64 -1.772 -1.857 -0.8874 -1.394 -1.072 ..."
      ]
     },
     "execution_count": 11,
     "metadata": {},
     "output_type": "execute_result"
    }
   ],
   "source": [
    "ds_ais"
   ]
  },
  {
   "cell_type": "code",
   "execution_count": null,
   "metadata": {},
   "outputs": [],
   "source": []
  },
  {
   "cell_type": "code",
   "execution_count": null,
   "metadata": {},
   "outputs": [],
   "source": []
  },
  {
   "cell_type": "code",
   "execution_count": null,
   "metadata": {},
   "outputs": [],
   "source": []
  },
  {
   "cell_type": "code",
   "execution_count": null,
   "metadata": {},
   "outputs": [],
   "source": []
  },
  {
   "cell_type": "code",
   "execution_count": null,
   "metadata": {},
   "outputs": [],
   "source": []
  },
  {
   "cell_type": "code",
   "execution_count": null,
   "metadata": {},
   "outputs": [],
   "source": []
  },
  {
   "cell_type": "code",
   "execution_count": null,
   "metadata": {},
   "outputs": [],
   "source": []
  },
  {
   "cell_type": "code",
   "execution_count": null,
   "metadata": {},
   "outputs": [],
   "source": []
  },
  {
   "cell_type": "code",
   "execution_count": null,
   "metadata": {},
   "outputs": [],
   "source": []
  },
  {
   "cell_type": "code",
   "execution_count": null,
   "metadata": {},
   "outputs": [],
   "source": []
  }
 ],
 "metadata": {
  "kernelspec": {
   "display_name": "Python 2",
   "language": "python",
   "name": "python2"
  },
  "language_info": {
   "codemirror_mode": {
    "name": "ipython",
    "version": 2
   },
   "file_extension": ".py",
   "mimetype": "text/x-python",
   "name": "python",
   "nbconvert_exporter": "python",
   "pygments_lexer": "ipython2",
   "version": "2.7.13"
  }
 },
 "nbformat": 4,
 "nbformat_minor": 2
}

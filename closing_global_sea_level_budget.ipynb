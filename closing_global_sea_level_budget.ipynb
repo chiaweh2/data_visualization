{
 "cells": [
  {
   "cell_type": "markdown",
   "metadata": {},
   "source": [
    "# Global sea level budget discussion"
   ]
  },
  {
   "cell_type": "code",
   "execution_count": 1,
   "metadata": {},
   "outputs": [],
   "source": [
    "%matplotlib inline\n",
    "%load_ext autoreload\n",
    "%autoreload 2"
   ]
  },
  {
   "cell_type": "code",
   "execution_count": 70,
   "metadata": {},
   "outputs": [],
   "source": [
    "# package\n",
    "import os\n",
    "import numpy as np\n",
    "import plotly\n",
    "import plotly.graph_objs as go\n",
    "import xarray as xr\n",
    "import sys\n",
    "import datetime\n",
    "# script\n",
    "from ncdf_io import ncdf_io\n",
    "from regression import regress\n",
    "from time_convert import time_convert,tarray_month"
   ]
  },
  {
   "cell_type": "markdown",
   "metadata": {},
   "source": [
    "### File location"
   ]
  },
  {
   "cell_type": "code",
   "execution_count": 71,
   "metadata": {},
   "outputs": [],
   "source": [
    "aisfile='/Users/joedhsu/Research/Rsync/Data_t/GRACE05_CSR/004_154/Antarctica/slf.t60.s300.m.deg1.scaMB_decom_multi.IVANS_IJ05_IMBIE.ptcorr.rf.200204_201410.regress.regts.agmask.-66_66.nc'\n",
    "gisfile='/Users/joedhsu/Research/Rsync/Data_t/GRACE05_CSR/004_154/Greenland/slf.t60.s300.m.deg1.scaMB_decom_multi.GERUO_ICE5_COMP.ptcorr.rf.200204_201410.regress.regts.agmask.-66_66.nc'\n",
    "lwmfile='/Users/joedhsu/Research/Rsync/Data_t/GRACE05_CSR/004_154/Landwater/slf.f.t60.s300.m.deg1.scaCLM4.5bgc_gict_hydt_ind_decom_multi.GERUO_ICE5_COMP.ptcorr.rf.200204_201410.regress.regts.agmask.-66_66.nc'\n",
    "aodfile='/Users/joedhsu/Research/Rsync/Data_t/GRACE05_CSR/004_154/GAC/slf.t100.s0.m.deg1.rf.200204_201410.regress.regts.agmask.-66_66.nc'\n",
    "glofile='/Users/joedhsu/Research/Rsync/Data_t/GRACE05_CSR/004_154/Global/slf.landf.t60.s300.m.deg1.scaCLM4.5bgc_gict_hydt_ind_decom_multi_MB_decom_multi.IVANS_IJ05_IMBIE_GERUO_ICE5_COMP.GAC.t100.ptcorr.rf.200204_201410.regress.regts.agmask.-66_66.nc'\n",
    "agofile='/Users/joedhsu/Research/Rsync/Data/Argo_Scripps/RG_ArgoClim_StericH_ano_swTEOS10.200401_201612.regress.regts.-66_66.nc'\n",
    "altfile='/Users/joedhsu/Research/Rsync/Data/Altimetry/AVISO/monthly_mean_dt_upd/ncfiles/data.process.2015.0217vers.CMEMS/dt_global_allsat_msla_h_giay.0.5deg.20to7.199301_201512.regress.regts.agmask.-66_66.nc'"
   ]
  },
  {
   "cell_type": "markdown",
   "metadata": {},
   "source": [
    "### To include every time series"
   ]
  },
  {
   "cell_type": "code",
   "execution_count": 40,
   "metadata": {},
   "outputs": [
    {
     "data": {
      "text/plain": [
       "'file:///Users/joedhsu/Github_public/data_visualization.dir/figures/plot_all.html'"
      ]
     },
     "execution_count": 40,
     "metadata": {},
     "output_type": "execute_result"
    }
   ],
   "source": [
    "files=[aisfile,gisfile,lwmfile,aodfile,glofile,agofile,altfile]\n",
    "\n",
    "varname=['anoSLF_SumPacAtlInd','anoSLF_SumPacAtlInd','anoSLF_SumPacAtlInd',\n",
    "         'anoSLF_SumPacAtlInd','anoSLF_SumPacAtlInd','anoSH_SumPacAtlInd',\n",
    "         'anoSL_SumPacAtlInd']\n",
    "\n",
    "varname2=['ais','gis','lwm',\n",
    "          'aod','totmass','steric',\n",
    "          'totsl']\n",
    "\n",
    "varname2_long=['Antarctic Ice Sheet','Greenland Ice Sheet','Land Water Mass',\n",
    "               'Atmospheric water vapor','Total Mass','Total Steric',\n",
    "               'Total Sea Level']\n",
    "\n",
    "data=[]\n",
    "dict_gts={}\n",
    "\n",
    "# new time stamp\n",
    "tstamp=tarray_month([2004,1],[2014,10])\n",
    "\n",
    "for i in range(len(files)):\n",
    "    # read the netcdf file\n",
    "    ncfile=ncdf_io(files[i],verbose=0)\n",
    "    ds=ncfile.read_ncdf2xarray()\n",
    "    \n",
    "    # old time stamp\n",
    "    yeardate=np.array(ds['yeardate'])\n",
    "    tdict=time_convert(yeardate).year2year_mon()\n",
    "    year=tdict['year']\n",
    "    month=tdict['month']\n",
    "    \n",
    "    # assign NaN to the missing month \n",
    "    gts=np.zeros([len(tstamp)])+np.float('nan')\n",
    "\n",
    "    # creating the new xarray dataset with new timestamp\n",
    "    for ii in range(len(year)):\n",
    "        tsig=datetime.datetime(year[ii],month[ii],15)\n",
    "        ind=np.where(tstamp==tsig)[0]\n",
    "        gts[ind]=np.round(np.array(ds[varname[i]])[ii],decimals=1)\n",
    "    gts[:]=gts[:]-gts[0]\n",
    "    dict_gts[varname2[i]]=(['time'],gts[:])          \n",
    "    ds_corr = xr.Dataset(dict_gts,coords={'time': tstamp})\n",
    "    \n",
    "    # create list of string base on timestamp\n",
    "    date_str=['%0.4i-%0.2i'%(tstamp[j].year,tstamp[j].month) for j in range(len(tstamp))]\n",
    "\n",
    "    # element for plotly line\n",
    "    gplt = go.Scatter(name=varname2_long[i],\n",
    "                      x=date_str,\n",
    "                      y=np.array(ds_corr[varname2[i]]),\n",
    "                      connectgaps=True,\n",
    "                      line=dict(width = 2,dash = 'solid'))\n",
    "    data.append(gplt)\n",
    "    \n",
    "# layout for the plotly figure\n",
    "layout = dict(\n",
    "            title = 'Global Mean Sea Level',\n",
    "            showlegend = True,\n",
    "            calendar = \"gregorian\",\n",
    "            xaxis= dict(title='Year'),\n",
    "            yaxis= dict(title='Global Mean Sea Level (mm)')\n",
    "             )\n",
    "\n",
    "# output netcdf file \n",
    "ds_corr.to_netcdf('./data/gmsl.nc')\n",
    "\n",
    "# py.iplot(dict(data=data,layout=layout),filename='plot_gsl')\n",
    "# # plotly.offline.plot(dict(data=data,layout=layout),filename='plot_gsl.html'\\\n",
    "# #                          ,include_plotlyjs=False,output_type ='div' )\n",
    "plotly.offline.plot(dict(data=data,layout=layout),filename='./figures/plot_all.html')"
   ]
  },
  {
   "cell_type": "markdown",
   "metadata": {},
   "source": [
    "### To only include the mass steric and total"
   ]
  },
  {
   "cell_type": "code",
   "execution_count": 53,
   "metadata": {},
   "outputs": [
    {
     "data": {
      "text/plain": [
       "'file:///Users/joedhsu/Github_public/data_visualization.dir/figures/plot_mass_steric_tot.html'"
      ]
     },
     "execution_count": 53,
     "metadata": {},
     "output_type": "execute_result"
    }
   ],
   "source": [
    "# Dealing one file at a time \n",
    "import xarray as xr\n",
    "import sys\n",
    "from time_convert import tarray_month\n",
    "import datetime\n",
    "\n",
    "files=[glofile,agofile,altfile]\n",
    "varname=['anoSLF_SumPacAtlInd','anoSH_SumPacAtlInd','anoSL_SumPacAtlInd']\n",
    "varname2=['totmass','totsteric','totsl']\n",
    "varname2_long=['Total Mass','Total Steric','Total Sea Level']\n",
    "linestyle=['dash','dash','solid']\n",
    "\n",
    "\n",
    "data=[]\n",
    "dict_gts={}\n",
    "\n",
    "# new time stamp\n",
    "tstamp=tarray_month([2004,1],[2014,10])\n",
    "\n",
    "for i in range(len(files)):\n",
    "    # read the netcdf file\n",
    "    ncfile=ncdf_io(files[i],verbose=0)\n",
    "    ds=ncfile.read_ncdf2xarray()\n",
    "    \n",
    "    # old time stamp\n",
    "    yeardate=np.array(ds['yeardate'])\n",
    "    tdict=time_convert(yeardate).year2year_mon()\n",
    "    year=tdict['year']\n",
    "    month=tdict['month']\n",
    "    \n",
    "    # assign NaN to the missing month \n",
    "    gts=np.zeros([len(tstamp)])+np.float('nan')\n",
    "\n",
    "    # creating the new xarray dataset with new timestamp\n",
    "    for ii in range(len(year)):\n",
    "        tsig=datetime.datetime(year[ii],month[ii],15)\n",
    "        ind=np.where(tstamp==tsig)[0]\n",
    "        gts[ind]=np.round(np.array(ds[varname[i]])[ii],decimals=1)\n",
    "    gts[:]=gts[:]-gts[0]\n",
    "    dict_gts[varname2[i]]=(['time'],gts[:])          \n",
    "    ds_corr = xr.Dataset(dict_gts,coords={'time': tstamp})\n",
    "    \n",
    "    # create list of string base on timestamp\n",
    "    date_str=['%0.4i-%0.2i'%(tstamp[j].year,tstamp[j].month) for j in range(len(tstamp))]\n",
    "\n",
    "    # element for plotly line\n",
    "    gplt = go.Scatter(name=varname2_long[i],\n",
    "                      x=date_str,\n",
    "                      y=np.round(np.array(ds_corr[varname2[i]]),decimals=1),\n",
    "                      connectgaps=True,\n",
    "                      line=dict(width = 2,dash = linestyle[i]))\n",
    "    data.append(gplt)\n",
    "\n",
    "    \n",
    "# include the mass+steric \n",
    "gplt = go.Scatter(name='%s + %s'%(varname2_long[0],varname2_long[1]),\n",
    "                  x=date_str,\n",
    "                  y=np.round(np.array(ds_corr[varname2[0]]+ds_corr[varname2[1]]),decimals=1),\n",
    "                  connectgaps=True,\n",
    "                  line=dict(width = 2,dash = 'solid'),\n",
    "                  visible='legendonly')\n",
    "data.append(gplt)\n",
    "    \n",
    "    \n",
    "# layout for the plotly figure\n",
    "layout = dict(\n",
    "            title = 'Global Mean Sea Level',\n",
    "            showlegend = True,\n",
    "            calendar = \"gregorian\",\n",
    "            xaxis= dict(title='Year'),\n",
    "            yaxis= dict(title='Global Mean Sea Level (mm)')\n",
    "             )\n",
    "\n",
    "# py.iplot(dict(data=data,layout=layout),filename='plot_gsl')\n",
    "# plotly.offline.plot(dict(data=data,layout=layout),filename='plot_mass_steric_tot.html'\\\n",
    "#                          ,include_plotlyjs=False,output_type ='div' )\n",
    "plotly.offline.plot(dict(data=data,layout=layout),filename='./figures/plot_mass_steric_tot.html')\n"
   ]
  },
  {
   "cell_type": "markdown",
   "metadata": {},
   "source": [
    "### Plotting the mass components"
   ]
  },
  {
   "cell_type": "code",
   "execution_count": 57,
   "metadata": {},
   "outputs": [],
   "source": [
    "aisfile='/Users/joedhsu/Research/Rsync/Data_t/GRACE05_CSR/004_154/Antarctica/slf.t60.s300.m.deg1.scaMB_decom_multi.IVANS_IJ05_IMBIE.ptcorr.rf.200204_201410.regress.regts.agmask.-66_66.nc'\n",
    "gisfile='/Users/joedhsu/Research/Rsync/Data_t/GRACE05_CSR/004_154/Greenland/slf.t60.s300.m.deg1.scaMB_decom_multi.GERUO_ICE5_COMP.ptcorr.rf.200204_201410.regress.regts.agmask.-66_66.nc'\n",
    "lwmfile='/Users/joedhsu/Research/Rsync/Data_t/GRACE05_CSR/004_154/Landwater/slf.f.t60.s300.m.deg1.scaCLM4.5bgc_gict_hydt_ind_decom_multi.GERUO_ICE5_COMP.ptcorr.rf.200204_201410.regress.regts.agmask.-66_66.nc'\n",
    "aodfile='/Users/joedhsu/Research/Rsync/Data_t/GRACE05_CSR/004_154/GAC/slf.t100.s0.m.deg1.rf.200204_201410.regress.regts.agmask.-66_66.nc'\n",
    "glofile='/Users/joedhsu/Research/Rsync/Data_t/GRACE05_CSR/004_154/Global/slf.landf.t60.s300.m.deg1.scaCLM4.5bgc_gict_hydt_ind_decom_multi_MB_decom_multi.IVANS_IJ05_IMBIE_GERUO_ICE5_COMP.GAC.t100.ptcorr.rf.200204_201410.regress.regts.agmask.-66_66.nc'\n",
    "\n",
    "ais=ncdf_io(aisfile,verbose=0)\n",
    "gis=ncdf_io(gisfile,verbose=0)\n",
    "lwm=ncdf_io(lwmfile,verbose=0)\n",
    "aod=ncdf_io(aodfile,verbose=0)\n",
    "glo=ncdf_io(glofile,verbose=0)"
   ]
  },
  {
   "cell_type": "code",
   "execution_count": 58,
   "metadata": {},
   "outputs": [],
   "source": [
    "ds_ais=ais.read_ncdf2xarray()\n",
    "ds_gis=gis.read_ncdf2xarray()\n",
    "ds_lwm=lwm.read_ncdf2xarray()\n",
    "ds_aod=aod.read_ncdf2xarray()\n",
    "ds_glo=glo.read_ncdf2xarray()"
   ]
  },
  {
   "cell_type": "markdown",
   "metadata": {},
   "source": [
    "### Plotting the global mean sea level contribution from mass changes "
   ]
  },
  {
   "cell_type": "code",
   "execution_count": 61,
   "metadata": {},
   "outputs": [
    {
     "data": {
      "text/html": [
       "<script>requirejs.config({paths: { 'plotly': ['https://cdn.plot.ly/plotly-latest.min']},});if(!window.Plotly) {{require(['plotly'],function(plotly) {window.Plotly=plotly;});}}</script>"
      ],
      "text/vnd.plotly.v1+html": [
       "<script>requirejs.config({paths: { 'plotly': ['https://cdn.plot.ly/plotly-latest.min']},});if(!window.Plotly) {{require(['plotly'],function(plotly) {window.Plotly=plotly;});}}</script>"
      ]
     },
     "metadata": {},
     "output_type": "display_data"
    },
    {
     "data": {
      "text/plain": [
       "'file:///Users/joedhsu/Github_public/data_visualization.dir/figures/plot_gsl.html'"
      ]
     },
     "execution_count": 61,
     "metadata": {},
     "output_type": "execute_result"
    }
   ],
   "source": [
    "import plotly\n",
    "import plotly.graph_objs as go\n",
    "from time_convert import *\n",
    "\n",
    "plotly.offline.init_notebook_mode(connected=True)\n",
    "\n",
    "yeardate=np.array(ds_ais['yeardate'])\n",
    "dict1=time_convert(yeardate).year2year_mon()\n",
    "# dict1=year2year_mon(yeardate)\n",
    "yeardate_str=dict1['string']\n",
    "gais=np.round(np.array(ds_ais['anoSLF_global'])-np.array(ds_ais['anoSLF_global'])[0],decimals=1)\n",
    "ggis=np.round(np.array(ds_gis['anoSLF_global'])-np.array(ds_gis['anoSLF_global'])[0],decimals=1)\n",
    "glwm=np.round(np.array(ds_lwm['anoSLF_global'])-np.array(ds_lwm['anoSLF_global'])[0],decimals=1)\n",
    "gaod=np.round(np.array(ds_aod['anoSLF_global'])-np.array(ds_aod['anoSLF_global'])[0],decimals=1)\n",
    "gglo=np.round(np.array(ds_glo['anoSLF_global'])-np.array(ds_glo['anoSLF_global'])[0],decimals=1)\n",
    "\n",
    "\n",
    "gplt_ais = go.Scatter(name='Antarctic ice sheet',\n",
    "                         x=yeardate_str,\n",
    "                         y=gais)\n",
    "gplt_gis = go.Scatter(name='Greenland ice sheet',\n",
    "                         x=yeardate_str,\n",
    "                         y=ggis)\n",
    "gplt_lwm = go.Scatter(name=\"Land water storage\",\n",
    "                         x=yeardate_str,\n",
    "                         y=glwm)\n",
    "gplt_aod = go.Scatter(name=\"Atmosphere water vapor\",\n",
    "                         x=yeardate_str,\n",
    "                         y=gaod)\n",
    "gplt_glo = go.Scatter(name=\"Sum\",\n",
    "                         x=yeardate_str,\n",
    "                         y=gglo)\n",
    "layout = dict(\n",
    "            title = 'Global Mean Sea Level',\n",
    "            showlegend = True,\n",
    "            calendar = \"gregorian\",\n",
    "            xaxis= dict(title='Year'),\n",
    "            yaxis= dict(title='Global Mean Sea Level (mm)')\n",
    "             )\n",
    "    \n",
    "data=[gplt_ais,gplt_gis,gplt_lwm,gplt_aod,gplt_glo]\n",
    "\n",
    "# py.iplot(dict(data=data,layout=layout),filename='plot_gsl')\n",
    "# plotly.offline.plot(dict(data=data,layout=layout),filename='plot_gsl.html'\\\n",
    "#                          ,include_plotlyjs=False,output_type ='div' )\n",
    "plotly.offline.plot(dict(data=data,layout=layout),filename='./figures/plot_gsl.html')"
   ]
  },
  {
   "cell_type": "markdown",
   "metadata": {},
   "source": [
    "### Use the class regress \n"
   ]
  },
  {
   "cell_type": "markdown",
   "metadata": {},
   "source": [
    "[first cell](#first cell)"
   ]
  },
  {
   "cell_type": "code",
   "execution_count": 63,
   "metadata": {},
   "outputs": [
    {
     "name": "stdout",
     "output_type": "stream",
     "text": [
      "---------------------------\n",
      "Regress result:\n",
      "['con', 'lin', 'anncos', 'annsin', 'semianncos', 'semiannsin']\n",
      "-3517.428521355614\n",
      "82.00474202514879\n",
      "1.682196123268106\n"
     ]
    }
   ],
   "source": [
    "reg=regress(yeardate, axis_rel=0)\n",
    "gglo_reg=reg.multivar_regress(gglo,predef_var='semisea_sea_lin')\n",
    "gglo_model=np.round(gglo_reg['model'],decimals=1)\n",
    "print '---------------------------'\n",
    "print 'Regress result:'\n",
    "print reg.dm_order[:] \n",
    "print gglo_reg['beta'][0]\n",
    "print gglo_reg['se'][0]\n",
    "print gglo_reg['rmse']"
   ]
  },
  {
   "cell_type": "markdown",
   "metadata": {},
   "source": [
    "### Testing the list_variates\n",
    "\n",
    "running the <a id='first cell'> **cell above** </a>"
   ]
  },
  {
   "cell_type": "code",
   "execution_count": 66,
   "metadata": {},
   "outputs": [
    {
     "name": "stdout",
     "output_type": "stream",
     "text": [
      "---------------------------\n",
      "Regress result:\n",
      "['var1', 'var2', 'var3', 'var4', 'var5', 'var6']\n",
      "-3517.428521355614\n",
      "82.00474202514879\n",
      "1.682196123268106\n"
     ]
    }
   ],
   "source": [
    "reg=regress(yeardate, axis_rel=0.)\n",
    "gglo_reg=reg.multivar_regress(gglo,list_variates= gglo_reg['list_variates'])\n",
    "gglo_model=np.round(gglo_reg['model'],decimals=1)\n",
    "print '---------------------------'\n",
    "print 'Regress result:'\n",
    "print reg.dm_order[:] \n",
    "print gglo_reg['beta'][0]\n",
    "print gglo_reg['se'][0]     \n",
    "print gglo_reg['rmse']"
   ]
  },
  {
   "cell_type": "markdown",
   "metadata": {},
   "source": [
    "### Plot the time series removing the regressed model"
   ]
  },
  {
   "cell_type": "code",
   "execution_count": 67,
   "metadata": {},
   "outputs": [
    {
     "name": "stdout",
     "output_type": "stream",
     "text": [
      "---------------------------\n",
      "Model includes:\n",
      "  var3\n",
      "  var4\n",
      "  var5\n",
      "  var6\n"
     ]
    }
   ],
   "source": [
    "### seasonal and semiseasonal \n",
    "fre_list=[2,3,4,5]\n",
    "def_model1=np.zeros(len(yeardate))\n",
    "print '---------------------------'\n",
    "print 'Model includes:'\n",
    "for i in fre_list:\n",
    "    def_model1+=np.array(gglo_reg['list_variates'][i])*gglo_reg['beta'][i]\n",
    "    print ' ',reg.dm_order[i]  "
   ]
  },
  {
   "cell_type": "code",
   "execution_count": 68,
   "metadata": {},
   "outputs": [
    {
     "name": "stdout",
     "output_type": "stream",
     "text": [
      "---------------------------\n",
      "Model includes:\n",
      "  var1\n",
      "  var2\n"
     ]
    }
   ],
   "source": [
    "### linear\n",
    "fre_list=[0,1]\n",
    "def_model2=np.zeros(len(yeardate))\n",
    "print '---------------------------'\n",
    "print 'Model includes:'\n",
    "for i in fre_list:\n",
    "    def_model2+=np.array(gglo_reg['list_variates'][i])*gglo_reg['beta'][i]\n",
    "    print ' ',reg.dm_order[i]  "
   ]
  },
  {
   "cell_type": "code",
   "execution_count": 69,
   "metadata": {},
   "outputs": [
    {
     "data": {
      "text/plain": [
       "'file:///Users/joedhsu/Github_public/data_visualization.dir/figures/plot_gsl_reg_mean.html'"
      ]
     },
     "execution_count": 69,
     "metadata": {},
     "output_type": "execute_result"
    }
   ],
   "source": [
    "gplt_glo = go.Scatter(name=\"Barystatic\",\n",
    "                         x=yeardate_str,\n",
    "                         y=gglo)\n",
    "gplt_glo_reg = go.Scatter(name=\"Remove seasonal\",\n",
    "                         x=yeardate_str,\n",
    "                         y=gglo-def_model1)\n",
    "gplt_glo_lin = go.Scatter(name=\"Trend %0.2f +- %0.2f mm/yr\"%(gglo_reg['beta'][1],gglo_reg['se'][1]),\n",
    "                         x=yeardate_str,\n",
    "                         y=def_model2,\n",
    "                      line=dict(width = 2,dash = 'dash'))\n",
    "layout = dict(\n",
    "            title = 'Global Mean Sea Level',\n",
    "            showlegend = True,\n",
    "            calendar = \"gregorian\",\n",
    "            xaxis= dict(title='Year'),\n",
    "            yaxis= dict(title='Global Mean Sea Level (mm)')\n",
    "             )\n",
    "    \n",
    "data=[gplt_glo,gplt_glo_reg,gplt_glo_lin]\n",
    "\n",
    "# py.iplot(dict(data=data,layout=layout),filename='plot_gsl_reg')\n",
    "# plotly.offline.plot(dict(data=data,layout=layout),filename='plot_gsl_reg.html'\\\n",
    "#                          ,include_plotlyjs=False,output_type ='div' )\n",
    "plotly.offline.plot(dict(data=data,layout=layout),filename='./figures/plot_gsl_reg_mean.html')"
   ]
  },
  {
   "cell_type": "code",
   "execution_count": null,
   "metadata": {},
   "outputs": [],
   "source": []
  },
  {
   "cell_type": "markdown",
   "metadata": {},
   "source": [
    "### Plotting the global mean sea level contribution from mass changes "
   ]
  },
  {
   "cell_type": "code",
   "execution_count": null,
   "metadata": {},
   "outputs": [],
   "source": []
  },
  {
   "cell_type": "code",
   "execution_count": null,
   "metadata": {},
   "outputs": [],
   "source": []
  },
  {
   "cell_type": "code",
   "execution_count": null,
   "metadata": {},
   "outputs": [],
   "source": []
  }
 ],
 "metadata": {
  "kernelspec": {
   "display_name": "Python 2",
   "language": "python",
   "name": "python2"
  },
  "language_info": {
   "codemirror_mode": {
    "name": "ipython",
    "version": 2
   },
   "file_extension": ".py",
   "mimetype": "text/x-python",
   "name": "python",
   "nbconvert_exporter": "python",
   "pygments_lexer": "ipython2",
   "version": "2.7.13"
  }
 },
 "nbformat": 4,
 "nbformat_minor": 2
}

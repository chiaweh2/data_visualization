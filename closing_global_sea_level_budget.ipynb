{
 "cells": [
  {
   "cell_type": "markdown",
   "metadata": {},
   "source": [
    "# Global sea level budget discussion"
   ]
  },
  {
   "cell_type": "code",
   "execution_count": 1,
   "metadata": {},
   "outputs": [],
   "source": [
    "%matplotlib inline\n",
    "%load_ext autoreload\n",
    "%autoreload 2"
   ]
  },
  {
   "cell_type": "code",
   "execution_count": 8,
   "metadata": {},
   "outputs": [],
   "source": [
    "# package\n",
    "import os\n",
    "import numpy as np\n",
    "import plotly\n",
    "import plotly.graph_objs as go\n",
    "# script\n",
    "from ncdf_io import ncdf_io\n",
    "from regression import regress\n",
    "from time_convert import time_convert\n",
    "\n",
    "\n"
   ]
  },
  {
   "cell_type": "markdown",
   "metadata": {},
   "source": [
    "### File location"
   ]
  },
  {
   "cell_type": "code",
   "execution_count": 9,
   "metadata": {},
   "outputs": [],
   "source": [
    "aisfile='/Users/joedhsu/Research/Rsync/Data_t/GRACE05_CSR/004_154/Antarctica/slf.t60.s300.m.deg1.scaMB_decom_multi.IVANS_IJ05_IMBIE.ptcorr.rf.200204_201410.regress.regts.agmask.-66_66.nc'\n",
    "gisfile='/Users/joedhsu/Research/Rsync/Data_t/GRACE05_CSR/004_154/Greenland/slf.t60.s300.m.deg1.scaMB_decom_multi.GERUO_ICE5_COMP.ptcorr.rf.200204_201410.regress.regts.agmask.-66_66.nc'\n",
    "lwmfile='/Users/joedhsu/Research/Rsync/Data_t/GRACE05_CSR/004_154/Landwater/slf.f.t60.s300.m.deg1.scaCLM4.5bgc_gict_hydt_ind_decom_multi.GERUO_ICE5_COMP.ptcorr.rf.200204_201410.regress.regts.agmask.-66_66.nc'\n",
    "aodfile='/Users/joedhsu/Research/Rsync/Data_t/GRACE05_CSR/004_154/GAC/slf.t100.s0.m.deg1.rf.200204_201410.regress.regts.agmask.-66_66.nc'\n",
    "glofile='/Users/joedhsu/Research/Rsync/Data_t/GRACE05_CSR/004_154/Global/slf.landf.t60.s300.m.deg1.scaCLM4.5bgc_gict_hydt_ind_decom_multi_MB_decom_multi.IVANS_IJ05_IMBIE_GERUO_ICE5_COMP.GAC.t100.ptcorr.rf.200204_201410.regress.regts.agmask.-66_66.nc'\n",
    "agofile='/Users/joedhsu/Research/Rsync/Data/Argo_Scripps/RG_ArgoClim_StericH_ano_swTEOS10.200401_201612.regress.regts.-66_66.nc'\n",
    "altfile='/Users/joedhsu/Research/Rsync/Data/Altimetry/AVISO/monthly_mean_dt_upd/ncfiles/data.process.2015.0217vers.CMEMS/dt_global_allsat_msla_h_giay.0.5deg.20to7.199301_201512.regress.regts.agmask.-66_66.nc'\n",
    "\n",
    "files=[aisfile,gisfile,lwmfile,aodfile,glofile,agofile,altfile]\n",
    "varname=['anoSLF_SumPacAtlInd','anoSLF_SumPacAtlInd','anoSLF_SumPacAtlInd',\n",
    "         'anoSLF_SumPacAtlInd','anoSLF_SumPacAtlInd','anoSH_SumPacAtlInd',\n",
    "         'anoSL_SumPacAtlInd']\n",
    "varname2=['ais','gis','lwm','aod','totmass','steric','totsl']\n",
    "varname2_long=['Antarctic Ice Sheet','Greenland Ice Sheet','Land Water Mass',\n",
    "               'Atmospheric water vapor','Total Mass','Total Steric',\n",
    "               'Total Sea Level']"
   ]
  },
  {
   "cell_type": "code",
   "execution_count": null,
   "metadata": {},
   "outputs": [],
   "source": []
  },
  {
   "cell_type": "code",
   "execution_count": 19,
   "metadata": {},
   "outputs": [
    {
     "data": {
      "text/plain": [
       "'file:///Users/joedhsu/Github_public/data_visualization.dir/figures/plot_all.html'"
      ]
     },
     "execution_count": 19,
     "metadata": {},
     "output_type": "execute_result"
    }
   ],
   "source": [
    "# Dealing one file at a time \n",
    "import xarray as xr\n",
    "import sys\n",
    "from time_convert import tarray_month\n",
    "import datetime\n",
    "\n",
    "data=[]\n",
    "for i in range(len(files)):\n",
    "    ncfile=ncdf_io(files[i],verbose=0)\n",
    "    ds=ncfile.read_ncdf2xarray()\n",
    "    \n",
    "    #old time stamp\n",
    "    yeardate=np.array(ds['yeardate'])\n",
    "    tdict=time_convert(yeardate).year2year_mon()\n",
    "    year=tdict['year']\n",
    "    month=tdict['month']\n",
    "\n",
    "    # new time stamp\n",
    "    tstamp=tarray_month([2002,1],[2016,12])\n",
    "#     tstamp.to_datetime()\n",
    "#     tstamp.month\n",
    "\n",
    "    # finding the missing month and assign NaN in the ts\n",
    "    if i == 0:\n",
    "        gts=np.zeros([len(files),len(tstamp)])+np.float('nan')\n",
    "\n",
    "    # creating the new xarray dataset \n",
    "    for ii in range(len(year)):\n",
    "        tsig=datetime.datetime(year[ii],month[ii],15)\n",
    "        ind=np.where(tstamp==tsig)[0]\n",
    "        gts[i,ind]=np.round(np.array(ds[varname[i]])[ii]-np.array(ds[varname[i]])[0],decimals=1)\n",
    "        \n",
    "    if i == 0:   \n",
    "        dict_gts={varname2[i]:(['time'],gts[i,:])}\n",
    "    else:\n",
    "        dict_gts[varname2[i]]=(['time'],gts[i,:])       \n",
    "    \n",
    "    ds_corr = xr.Dataset(dict_gts,coords={'time': tstamp})\n",
    "    \n",
    "    \n",
    "    date_str=['%0.4i-%0.2i'%(tstamp[j].year,tstamp[j].month) for j in range(len(tstamp))]\n",
    "\n",
    "    gplt = go.Scatter(name=varname2_long[i],\n",
    "                      x=date_str,\n",
    "                      y=np.array(ds_corr[varname2[i]]),\n",
    "                      connectgaps=True)\n",
    "    data.append(gplt)\n",
    "    \n",
    "    \n",
    "    \n",
    "    \n",
    "\n",
    "layout = dict(\n",
    "            title = 'Global Mean Sea Level',\n",
    "            showlegend = True,\n",
    "            calendar = \"gregorian\",\n",
    "            xaxis= dict(title='Year'),\n",
    "            yaxis= dict(title='Global Mean Sea Level (mm)')\n",
    "             )\n",
    "    \n",
    "ds_corr.to_netcdf('./data/gmsl.nc')\n",
    "\n",
    "# py.iplot(dict(data=data,layout=layout),filename='plot_gsl')\n",
    "# # plotly.offline.plot(dict(data=data,layout=layout),filename='plot_gsl.html'\\\n",
    "# #                          ,include_plotlyjs=False,output_type ='div' )\n",
    "plotly.offline.plot(dict(data=data,layout=layout),filename='./figures/plot_all.html')\n",
    "    \n",
    "    \n",
    "    \n",
    "    \n"
   ]
  },
  {
   "cell_type": "code",
   "execution_count": null,
   "metadata": {},
   "outputs": [],
   "source": []
  },
  {
   "cell_type": "code",
   "execution_count": null,
   "metadata": {},
   "outputs": [],
   "source": []
  },
  {
   "cell_type": "markdown",
   "metadata": {},
   "source": [
    "### Plotting the global mean sea level contribution from mass changes "
   ]
  },
  {
   "cell_type": "code",
   "execution_count": null,
   "metadata": {},
   "outputs": [],
   "source": []
  },
  {
   "cell_type": "code",
   "execution_count": null,
   "metadata": {},
   "outputs": [],
   "source": []
  },
  {
   "cell_type": "code",
   "execution_count": null,
   "metadata": {},
   "outputs": [],
   "source": []
  }
 ],
 "metadata": {
  "kernelspec": {
   "display_name": "Python 2",
   "language": "python",
   "name": "python2"
  },
  "language_info": {
   "codemirror_mode": {
    "name": "ipython",
    "version": 2
   },
   "file_extension": ".py",
   "mimetype": "text/x-python",
   "name": "python",
   "nbconvert_exporter": "python",
   "pygments_lexer": "ipython2",
   "version": "2.7.13"
  }
 },
 "nbformat": 4,
 "nbformat_minor": 2
}

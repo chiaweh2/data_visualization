{
 "cells": [
  {
   "cell_type": "markdown",
   "metadata": {},
   "source": [
    "# Global sea level budget discussion"
   ]
  },
  {
   "cell_type": "code",
   "execution_count": 2,
   "metadata": {},
   "outputs": [],
   "source": [
    "%matplotlib inline"
   ]
  },
  {
   "cell_type": "code",
   "execution_count": 10,
   "metadata": {},
   "outputs": [],
   "source": [
    "# package\n",
    "import os\n",
    "import numpy as np\n",
    "import plotly\n",
    "import plotly.graph_objs as go\n",
    "# script\n",
    "from ncdf_io import ncdf_io\n",
    "from regression import regress\n",
    "from time_convert import time_convert\n",
    "\n",
    "\n"
   ]
  },
  {
   "cell_type": "code",
   "execution_count": 11,
   "metadata": {},
   "outputs": [],
   "source": [
    "aisfile='/Users/joedhsu/Research/Rsync/Data_t/GRACE05_CSR/004_154/Antarctica/slf.t60.s300.m.deg1.scaMB_decom_multi.IVANS_IJ05_IMBIE.ptcorr.rf.200204_201410.regress.regts.agmask.-66_66.nc'\n",
    "gisfile='/Users/joedhsu/Research/Rsync/Data_t/GRACE05_CSR/004_154/Greenland/slf.t60.s300.m.deg1.scaMB_decom_multi.GERUO_ICE5_COMP.ptcorr.rf.200204_201410.regress.regts.agmask.-66_66.nc'\n",
    "lwmfile='/Users/joedhsu/Research/Rsync/Data_t/GRACE05_CSR/004_154/Landwater/slf.f.t60.s300.m.deg1.scaCLM4.5bgc_gict_hydt_ind_decom_multi.GERUO_ICE5_COMP.ptcorr.rf.200204_201410.regress.regts.agmask.-66_66.nc'\n",
    "aodfile='/Users/joedhsu/Research/Rsync/Data_t/GRACE05_CSR/004_154/GAC/slf.t100.s0.m.deg1.rf.200204_201410.regress.regts.agmask.-66_66.nc'\n",
    "glofile='/Users/joedhsu/Research/Rsync/Data_t/GRACE05_CSR/004_154/Global/slf.landf.t60.s300.m.deg1.scaCLM4.5bgc_gict_hydt_ind_decom_multi_MB_decom_multi.IVANS_IJ05_IMBIE_GERUO_ICE5_COMP.GAC.t100.ptcorr.rf.200204_201410.regress.regts.agmask.-66_66.nc'\n",
    "agofile='/Users/joedhsu/Research/Rsync/Data/Argo_Scripps/RG_ArgoClim_StericH_ano_swTEOS10.200401_201612.regress.regts.-66_66.nc'\n",
    "altfile='/Users/joedhsu/Research/Rsync/Data/Altimetry/AVISO/monthly_mean_dt_upd/ncfiles/data.process.2015.0217vers.CMEMS/dt_global_allsat_msla_h_giay.0.5deg.20to7.199301_201512.regress.regts.agmask.-66_66.nc'\n",
    "\n",
    "files=[aisfile,gisfile,lwmfile,aodfile,glofile,agofile,altfile]\n",
    "varname=['anoSLF_SumPacAtlInd','anoSLF_SumPacAtlInd','anoSLF_SumPacAtlInd',\n",
    "         'anoSLF_SumPacAtlInd','anoSLF_SumPacAtlInd','anoSH_SumPacAtlInd',\n",
    "         'anoSSH_SumPacAtlInd']\n"
   ]
  },
  {
   "cell_type": "code",
   "execution_count": null,
   "metadata": {},
   "outputs": [],
   "source": [
    "def "
   ]
  },
  {
   "cell_type": "code",
   "execution_count": 12,
   "metadata": {},
   "outputs": [
    {
     "name": "stdout",
     "output_type": "stream",
     "text": [
      "\n",
      "\n",
      "#   ncfile dimensions \n",
      "----------------------------------\n",
      "time 139\n",
      "\n",
      "\n",
      "#   ncfile variables \n",
      "----------------------------------\n",
      "anoSLF_Pac (139,)\n",
      "    dim: [u'time']\n",
      "anoSLF_Atl (139,)\n",
      "    dim: [u'time']\n",
      "anoSLF_Ind (139,)\n",
      "    dim: [u'time']\n",
      "anoSLF_SumPacAtlInd (139,)\n",
      "    dim: [u'time']\n",
      "anoSLF_global (139,)\n",
      "    dim: [u'time']\n",
      "yeardate (139,)\n",
      "    dim: [u'time']\n",
      "\n",
      "\n",
      "#   ncfile dimensions \n",
      "----------------------------------\n",
      "time 139\n",
      "\n",
      "\n",
      "#   ncfile variables \n",
      "----------------------------------\n",
      "anoSLF_Pac (139,)\n",
      "    dim: [u'time']\n",
      "anoSLF_Atl (139,)\n",
      "    dim: [u'time']\n",
      "anoSLF_Ind (139,)\n",
      "    dim: [u'time']\n",
      "anoSLF_SumPacAtlInd (139,)\n",
      "    dim: [u'time']\n",
      "anoSLF_global (139,)\n",
      "    dim: [u'time']\n",
      "yeardate (139,)\n",
      "    dim: [u'time']\n",
      "\n",
      "\n",
      "#   ncfile dimensions \n",
      "----------------------------------\n",
      "time 139\n",
      "\n",
      "\n",
      "#   ncfile variables \n",
      "----------------------------------\n",
      "anoSLF_Pac (139,)\n",
      "    dim: [u'time']\n",
      "anoSLF_Atl (139,)\n",
      "    dim: [u'time']\n",
      "anoSLF_Ind (139,)\n",
      "    dim: [u'time']\n",
      "anoSLF_SumPacAtlInd (139,)\n",
      "    dim: [u'time']\n",
      "anoSLF_global (139,)\n",
      "    dim: [u'time']\n",
      "yeardate (139,)\n",
      "    dim: [u'time']\n",
      "\n",
      "\n",
      "#   ncfile dimensions \n",
      "----------------------------------\n",
      "time 139\n",
      "\n",
      "\n",
      "#   ncfile variables \n",
      "----------------------------------\n",
      "anoSLF_Pac (139,)\n",
      "    dim: [u'time']\n",
      "anoSLF_Atl (139,)\n",
      "    dim: [u'time']\n",
      "anoSLF_Ind (139,)\n",
      "    dim: [u'time']\n",
      "anoSLF_SumPacAtlInd (139,)\n",
      "    dim: [u'time']\n",
      "anoSLF_global (139,)\n",
      "    dim: [u'time']\n",
      "yeardate (139,)\n",
      "    dim: [u'time']\n",
      "\n",
      "\n",
      "#   ncfile dimensions \n",
      "----------------------------------\n",
      "time 139\n",
      "\n",
      "\n",
      "#   ncfile variables \n",
      "----------------------------------\n",
      "anoSLF_Pac (139,)\n",
      "    dim: [u'time']\n",
      "anoSLF_Atl (139,)\n",
      "    dim: [u'time']\n",
      "anoSLF_Ind (139,)\n",
      "    dim: [u'time']\n",
      "anoSLF_SumPacAtlInd (139,)\n",
      "    dim: [u'time']\n",
      "anoSLF_global (139,)\n",
      "    dim: [u'time']\n",
      "yeardate (139,)\n",
      "    dim: [u'time']\n"
     ]
    }
   ],
   "source": [
    "# Dealing one file at a time \n",
    "\n",
    "for i in range(len(files)):\n",
    "    ncfile=ncdf_io(files[i])\n",
    "    ds=ncfile.read_ncdf2xarray()\n",
    "    yeardate=np.array(ds['yeardate'])\n",
    "    if i == 0:\n",
    "        gts=np.zeros([len(files),len(yeardate)])\n",
    "    yeardate_str=time_convert(yeardate).year2year_mon()['string']\n",
    "    gts[i,:]=np.round(np.array(ds[varname[i]])-np.array(ds[varname[i]])[0],decimals=1)\n",
    "    \n",
    "\n",
    "\n",
    "gplt_ais = go.Scatter(name='Antarctic ice sheet',\n",
    "                         x=yeardate_str,\n",
    "                         y=gais)\n",
    "gplt_gis = go.Scatter(name='Greenland ice sheet',\n",
    "                         x=yeardate_str,\n",
    "                         y=ggis)\n",
    "gplt_lwm = go.Scatter(name=\"Land water storage\",\n",
    "                         x=yeardate_str,\n",
    "                         y=glwm)\n",
    "gplt_aod = go.Scatter(name=\"Atmosphere water vapor\",\n",
    "                         x=yeardate_str,\n",
    "                         y=gaod)\n",
    "gplt_glo = go.Scatter(name=\"Sum\",\n",
    "                         x=yeardate_str,\n",
    "                         y=gglo)\n",
    "layout = dict(\n",
    "            title = 'Global Mean Sea Level',\n",
    "            showlegend = True,\n",
    "            calendar = \"gregorian\",\n",
    "            xaxis= dict(title='Year'),\n",
    "            yaxis= dict(title='Global Mean Sea Level (mm)')\n",
    "             )\n",
    "    \n",
    "data=[gplt_ais,gplt_gis,gplt_lwm,gplt_aod,gplt_glo]\n",
    "\n",
    "py.iplot(dict(data=data,layout=layout),filename='plot_gsl')\n",
    "# plotly.offline.plot(dict(data=data,layout=layout),filename='plot_gsl.html'\\\n",
    "#                          ,include_plotlyjs=False,output_type ='div' )\n",
    "# plotly.offline.plot(dict(data=data,layout=layout),filename='./figures/plot_gsl.html')\n",
    "    \n",
    "    \n",
    "    \n",
    "    \n"
   ]
  },
  {
   "cell_type": "markdown",
   "metadata": {},
   "source": [
    "### Plotting the global mean sea level contribution from mass changes "
   ]
  },
  {
   "cell_type": "code",
   "execution_count": 305,
   "metadata": {},
   "outputs": [
    {
     "data": {
      "text/html": [
       "<script>requirejs.config({paths: { 'plotly': ['https://cdn.plot.ly/plotly-latest.min']},});if(!window.Plotly) {{require(['plotly'],function(plotly) {window.Plotly=plotly;});}}</script>"
      ],
      "text/vnd.plotly.v1+html": [
       "<script>requirejs.config({paths: { 'plotly': ['https://cdn.plot.ly/plotly-latest.min']},});if(!window.Plotly) {{require(['plotly'],function(plotly) {window.Plotly=plotly;});}}</script>"
      ]
     },
     "metadata": {},
     "output_type": "display_data"
    },
    {
     "data": {
      "text/html": [
       "<iframe id=\"igraph\" scrolling=\"no\" style=\"border:none;\" seamless=\"seamless\" src=\"https://plot.ly/~chiaweh2/16.embed\" height=\"525px\" width=\"100%\"></iframe>"
      ],
      "text/plain": [
       "<plotly.tools.PlotlyDisplay object>"
      ]
     },
     "execution_count": 305,
     "metadata": {},
     "output_type": "execute_result"
    }
   ],
   "source": [
    "\n",
    "\n",
    "plotly.offline.init_notebook_mode(connected=True)\n",
    "\n",
    "yeardate=np.array(ds_ais['yeardate'])\n",
    "dict1=time_convert(yeardate).year2year_mon()\n",
    "# dict1=year2year_mon(yeardate)\n",
    "yeardate_str=dict1['string']\n",
    "gais=np.round(np.array(ds_ais['anoSLF_global'])-np.array(ds_ais['anoSLF_global'])[0],decimals=1)\n",
    "ggis=np.round(np.array(ds_gis['anoSLF_global'])-np.array(ds_gis['anoSLF_global'])[0],decimals=1)\n",
    "glwm=np.round(np.array(ds_lwm['anoSLF_global'])-np.array(ds_lwm['anoSLF_global'])[0],decimals=1)\n",
    "gaod=np.round(np.array(ds_aod['anoSLF_global'])-np.array(ds_aod['anoSLF_global'])[0],decimals=1)\n",
    "gglo=np.round(np.array(ds_glo['anoSLF_global'])-np.array(ds_glo['anoSLF_global'])[0],decimals=1)\n",
    "\n",
    "\n",
    "gplt_ais = go.Scatter(name='Antarctic ice sheet',\n",
    "                         x=yeardate_str,\n",
    "                         y=gais)\n",
    "gplt_gis = go.Scatter(name='Greenland ice sheet',\n",
    "                         x=yeardate_str,\n",
    "                         y=ggis)\n",
    "gplt_lwm = go.Scatter(name=\"Land water storage\",\n",
    "                         x=yeardate_str,\n",
    "                         y=glwm)\n",
    "gplt_aod = go.Scatter(name=\"Atmosphere water vapor\",\n",
    "                         x=yeardate_str,\n",
    "                         y=gaod)\n",
    "gplt_glo = go.Scatter(name=\"Sum\",\n",
    "                         x=yeardate_str,\n",
    "                         y=gglo)\n",
    "layout = dict(\n",
    "            title = 'Global Mean Sea Level',\n",
    "            showlegend = True,\n",
    "            calendar = \"gregorian\",\n",
    "            xaxis= dict(title='Year'),\n",
    "            yaxis= dict(title='Global Mean Sea Level (mm)')\n",
    "             )\n",
    "    \n",
    "data=[gplt_ais,gplt_gis,gplt_lwm,gplt_aod,gplt_glo]\n",
    "\n",
    "py.iplot(dict(data=data,layout=layout),filename='plot_gsl')\n",
    "# plotly.offline.plot(dict(data=data,layout=layout),filename='plot_gsl.html'\\\n",
    "#                          ,include_plotlyjs=False,output_type ='div' )\n",
    "# plotly.offline.plot(dict(data=data,layout=layout),filename='./figures/plot_gsl.html')"
   ]
  },
  {
   "cell_type": "code",
   "execution_count": null,
   "metadata": {},
   "outputs": [],
   "source": []
  }
 ],
 "metadata": {
  "kernelspec": {
   "display_name": "Python 2",
   "language": "python",
   "name": "python2"
  },
  "language_info": {
   "codemirror_mode": {
    "name": "ipython",
    "version": 2
   },
   "file_extension": ".py",
   "mimetype": "text/x-python",
   "name": "python",
   "nbconvert_exporter": "python",
   "pygments_lexer": "ipython2",
   "version": "2.7.13"
  }
 },
 "nbformat": 4,
 "nbformat_minor": 2
}
